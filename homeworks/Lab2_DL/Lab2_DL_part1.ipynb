{
 "cells": [
  {
   "cell_type": "markdown",
   "metadata": {},
   "source": [
    "## Lab 3"
   ]
  },
  {
   "cell_type": "markdown",
   "metadata": {},
   "source": [
    "### Part 1. Overfit it (1.5 points)"
   ]
  },
  {
   "cell_type": "markdown",
   "metadata": {},
   "source": [
    "Будем работать с датасетом [Fashion-MNIST](https://github.com/zalandoresearch/fashion-mnist) (*hint: он доступен в torchvision*).\n",
    "\n",
    "Ваша задача состоит в следующем:\n",
    "1. Обучить сеть, которая покажет >= 0.92 test accuracy.\n",
    "2. Пронаблюдать и продемонстрировать процесс переобучения сети с увеличением числа параметров (==нейронов) и/или числа слоев и продемонстрировать это наглядно (например, на графиках).\n",
    "3. Попробовать частично справиться с переобучением с помощью подходящих приемов (Dropout/batchnorm/augmentation etc.)\n",
    "\n",
    "*Примечание*: Пункты 2 и 3 взаимосвязаны, в п.3 Вам прелагается сделать полученную в п.2 сеть менее склонной к переобучению. Пункт 1 является независимым от пунктов 2 и 3."
   ]
  },
  {
   "cell_type": "code",
   "execution_count": 5,
   "metadata": {},
   "outputs": [],
   "source": [
    "import pandas as pd\n",
    "import numpy as np\n",
    "import torch\n",
    "from torch.autograd import Variable\n",
    "import torchvision\n",
    "import torch.nn as nn\n",
    "import torch.nn.functional as F\n",
    "import time"
   ]
  },
  {
   "cell_type": "code",
   "execution_count": 6,
   "metadata": {},
   "outputs": [],
   "source": [
    "from torchvision.datasets import FashionMNIST\n",
    "from torchvision import transforms\n",
    "\n",
    "augment = transforms.Compose([\n",
    "    transforms.RandomAffine(30, [0.2, 0.2], (0.7, 1.3)),\n",
    "    transforms.ToTensor(),\n",
    "])\n",
    "\n",
    "fashion_mnist_train = FashionMNIST('data', download=True, train=True, transform=augment)\n",
    "fashion_mnist_test = FashionMNIST('data', download=True, train=False, transform=transforms.ToTensor())"
   ]
  },
  {
   "cell_type": "code",
   "execution_count": 7,
   "metadata": {},
   "outputs": [],
   "source": [
    "class OneDim(nn.Module):\n",
    "  \n",
    "    def forward(self, x):\n",
    "        return x.view(x.shape[0], -1)"
   ]
  },
  {
   "cell_type": "code",
   "execution_count": 8,
   "metadata": {},
   "outputs": [],
   "source": [
    "def save(what, filename):\n",
    "    with open(filename, \"w\") as f:\n",
    "        f.write(what)"
   ]
  },
  {
   "cell_type": "code",
   "execution_count": 9,
   "metadata": {},
   "outputs": [],
   "source": [
    "from datetime import datetime as dt\n",
    "today = dt.now().strftime(\"%d-%m-%Y\")"
   ]
  },
  {
   "cell_type": "code",
   "execution_count": 12,
   "metadata": {},
   "outputs": [],
   "source": [
    "def train(model, num_epochs, train_batch_gen, test_batch_gen, lr, label=\"\"):\n",
    "    opt = torch.optim.Adam(model.parameters(), lr=lr)\n",
    "    \n",
    "    train_loss = []\n",
    "    test_acc = []\n",
    "    \n",
    "    for epoch in range(num_epochs):\n",
    "        start_time = time.time()\n",
    "        model.train(True)\n",
    "        for (X_batch, y_batch) in train_batch_gen:\n",
    "            X_batch, y_batch = Variable(torch.FloatTensor(X_batch)).cpu(), Variable(torch.LongTensor(y_batch)).cpu()\n",
    "            loss = F.cross_entropy(model.cpu()(X_batch), y_batch)\n",
    "            loss.backward()\n",
    "            opt.step()\n",
    "\n",
    "            opt.zero_grad()\n",
    "            train_loss.append(loss.cpu().data.numpy())\n",
    "\n",
    "        model.train(False)\n",
    "        for X_batch, y_batch in test_batch_gen:\n",
    "            logits = model(Variable(torch.FloatTensor(X_batch).cpu()))\n",
    "            test_acc.append(np.mean((y_batch.cpu() == logits.max(1)[1].data.cpu()).numpy()))\n",
    "\n",
    "        av_test_acc = np.mean(test_acc[-len(test_batch_gen)::])\n",
    "        av_train_loss = np.mean(train_loss[-len(train_batch_gen):])\n",
    "\n",
    "        print(f\"Epoch {epoch + 1}/{num_epochs} - {time.time() - start_time:.1f}s  training loss: {av_train_loss} test accuracy: {av_test_acc:.3f}\")\n",
    "        \n",
    "        torch.save(model.state_dict(), f\"{today}_model_{label}_epoch_{epoch + 1}_test_acc_{av_test_acc}_loss_{av_train_loss:.6f}\")\n",
    "        save(train_loss, f\"{today}_training_loss_epoch_{epoch}\")\n",
    "        save(test_acc, f\"{today}_test_acc_epoch_{epoch}\")\n",
    "        \n",
    "        return train_loss, test_acc"
   ]
  },
  {
   "cell_type": "code",
   "execution_count": 13,
   "metadata": {},
   "outputs": [],
   "source": [
    "init_conv = 64\n",
    "init_dense = 512\n",
    "\n",
    "model = nn.Sequential(\n",
    "    \n",
    "    nn.Conv2d(1, init_conv, 3, padding=1),\n",
    "    nn.ReLU(),\n",
    "    nn.BatchNorm2d(init_conv),\n",
    "    \n",
    "    nn.Conv2d(init_conv, init_conv, 3, padding=1),\n",
    "    nn.ReLU(),\n",
    "    nn.BatchNorm2d(init_conv),\n",
    "    nn.MaxPool2d(2),\n",
    "    \n",
    "    nn.Conv2d(init_conv, init_conv * 2, 3, padding=1),\n",
    "    nn.ReLU(),\n",
    "    nn.BatchNorm2d(init_conv * 2),\n",
    "    \n",
    "    nn.Conv2d(init_conv * 2, init_conv * 2, 3, padding=1),\n",
    "    nn.ReLU(),\n",
    "    nn.BatchNorm2d(init_conv * 2),\n",
    "    nn.MaxPool2d(2),\n",
    "    \n",
    "    nn.Conv2d(init_conv * 2, init_conv * 4, 3, padding=1),\n",
    "    nn.ReLU(),\n",
    "    nn.BatchNorm2d(init_conv * 4),\n",
    "    \n",
    "    nn.Conv2d(init_conv * 4, init_conv * 4, 3, padding=1),\n",
    "    nn.ReLU(),\n",
    "    nn.BatchNorm2d(init_conv * 4),\n",
    "    \n",
    "    OneDim(),\n",
    "    nn.Linear(7 * 7 * init_conv * 4, init_dense),\n",
    "    nn.Dropout(p=0.1),\n",
    "    nn.ReLU(),\n",
    "    nn.BatchNorm1d(init_dense),\n",
    "    \n",
    "    nn.Linear(init_dense, init_dense),\n",
    "    nn.Dropout(p=0.1),\n",
    "    nn.ReLU(),\n",
    "    nn.BatchNorm1d(init_dense),\n",
    "    \n",
    "    nn.Linear(init_dense, init_dense),\n",
    "    nn.Dropout(p=0.2),\n",
    "    nn.ReLU(),\n",
    "    nn.BatchNorm1d(init_dense),\n",
    "    \n",
    "    nn.Linear(init_dense, 10),\n",
    ")"
   ]
  },
  {
   "cell_type": "code",
   "execution_count": 14,
   "metadata": {},
   "outputs": [],
   "source": [
    "batch_size = 128\n",
    "train_batch_gen = torch.utils.data.DataLoader(fashion_mnist_train, \n",
    "                                              batch_size=batch_size,\n",
    "                                              shuffle=True)\n",
    "test_batch_gen = torch.utils.data.DataLoader(fashion_mnist_test, \n",
    "                                              batch_size=batch_size,\n",
    "                                              shuffle=True)"
   ]
  },
  {
   "cell_type": "code",
   "execution_count": null,
   "metadata": {},
   "outputs": [],
   "source": [
    "train_loss, test_acc = train(model=model, \n",
    "                             num_epochs=15, \n",
    "                             train_batch_gen=train_batch_gen, \n",
    "                             test_batch_gen=test_batch_gen,\n",
    "                             lr=0.001, \n",
    "                             label=\"\")"
   ]
  },
  {
   "cell_type": "code",
   "execution_count": null,
   "metadata": {},
   "outputs": [],
   "source": []
  },
  {
   "cell_type": "markdown",
   "metadata": {},
   "source": [
    "### Overfitting"
   ]
  },
  {
   "cell_type": "code",
   "execution_count": 23,
   "metadata": {},
   "outputs": [],
   "source": [
    "fashion_mnist_train = FashionMNIST('data', download=True, train=True, transform=test)\n",
    "fashion_mnist_test = FashionMNIST('data', download=True, train=False, transform=test)\n",
    "\n",
    "batch_size = 128\n",
    "train_batch_gen = torch.utils.data.DataLoader(fashion_mnist_train, \n",
    "                                              batch_size=batch_size,\n",
    "                                              shuffle=True)\n",
    "test_batch_gen = torch.utils.data.DataLoader(fashion_mnist_test, \n",
    "                                              batch_size=batch_size,\n",
    "                                              shuffle=True)"
   ]
  },
  {
   "cell_type": "code",
   "execution_count": 24,
   "metadata": {},
   "outputs": [],
   "source": [
    "init_conv = 256\n",
    "init_dense = 4096 * 2\n",
    "\n",
    "over_model = nn.Sequential(\n",
    "    \n",
    "    nn.Conv2d(1, init_conv, 7, padding=2),\n",
    "    \n",
    "    nn.ReLU(),\n",
    "#     nn.BatchNorm2d(init_conv),\n",
    "    nn.MaxPool2d(4),\n",
    "    \n",
    "    to_1d(),\n",
    "    nn.Linear(6 * 6 * init_conv, init_dense),\n",
    "#     nn.Dropout(p=0.1),\n",
    "    nn.ReLU(),\n",
    "#     nn.BatchNorm1d(init_dense),\n",
    "    \n",
    "    nn.Linear(init_dense, init_dense // 2),\n",
    "#     nn.Dropout(p=0.1),\n",
    "    nn.ReLU(),\n",
    "#     nn.BatchNorm1d(init_dense),\n",
    "    \n",
    "    nn.Linear(init_dense // 2, init_dense // 4),\n",
    "    nn.ReLU(),\n",
    "#     nn.Dropout(p=0.2),\n",
    "#     nn.BatchNorm1d(init_dense),\n",
    "    \n",
    "    nn.Linear(init_dense // 4, 10),\n",
    ")"
   ]
  },
  {
   "cell_type": "code",
   "execution_count": null,
   "metadata": {},
   "outputs": [],
   "source": [
    "over_train_loss, over_test_acc = train(model=over_model, \n",
    "                                       num_epochs=30, \n",
    "                                       train_batch_gen=train_batch_gen, \n",
    "                                       test_batch_gen=test_batch_gen,\n",
    "                                       lr=0.003, \n",
    "                                       label=\"over\")"
   ]
  },
  {
   "cell_type": "code",
   "execution_count": 27,
   "metadata": {},
   "outputs": [
    {
     "data": {
      "image/png": "[encoded data removed]",
      "text/plain": [
       "<Figure size 432x288 with 1 Axes>"
      ]
     },
     "metadata": {
      "needs_background": "light"
     },
     "output_type": "display_data"
    }
   ],
   "source": [
    "import matplotlib.pyplot as plt\n",
    "\n",
    "plt.plot(over_train_loss[3:], c='r')\n",
    "plt.plot(1-np.array(over_test_acc[3:]))\n",
    "plt.grid()"
   ]
  },
  {
   "cell_type": "markdown",
   "metadata": {},
   "source": [
    "### Fixing"
   ]
  },
  {
   "cell_type": "code",
   "execution_count": 35,
   "metadata": {},
   "outputs": [],
   "source": [
    "init_conv = 256\n",
    "init_dense = 4096 * 2\n",
    "\n",
    "fixed_model = nn.Sequential(\n",
    "    \n",
    "    nn.Conv2d(1, init_conv, 7, padding=2),\n",
    "    \n",
    "    nn.ReLU(),\n",
    "    nn.BatchNorm2d(init_conv),\n",
    "    nn.MaxPool2d(4),\n",
    "    \n",
    "    to_1d(),\n",
    "    nn.Linear(6 * 6 * init_conv, init_dense),\n",
    "    nn.Dropout(p=0.2),\n",
    "    nn.ReLU(),\n",
    "    nn.BatchNorm1d(init_dense),\n",
    "    \n",
    "    nn.Linear(init_dense, init_dense // 2),\n",
    "    nn.Dropout(p=0.2),\n",
    "    nn.ReLU(),\n",
    "    nn.BatchNorm1d(init_dense // 2),\n",
    "    \n",
    "    nn.Linear(init_dense // 2, init_dense // 4),\n",
    "    nn.ReLU(),\n",
    "    nn.Dropout(p=0.2),\n",
    "    nn.BatchNorm1d(init_dense // 4),\n",
    "    \n",
    "    nn.Linear(init_dense // 4, 10),\n",
    ")"
   ]
  },
  {
   "cell_type": "code",
   "execution_count": null,
   "metadata": {},
   "outputs": [],
   "source": [
    "fixed_train_loss, fixed_test_acc = train(model=fixed_model, \n",
    "                                         num_epochs=30,\n",
    "                                         train_batch_gen=train_batch_gen,\n",
    "                                         test_batch_gen=test_batch_gen,\n",
    "                                         lr=0.003,\n",
    "                                         label=\"fixed\")"
   ]
  },
  {
   "cell_type": "code",
   "execution_count": 1,
   "metadata": {},
   "outputs": [
    {
     "ename": "NameError",
     "evalue": "name 'plt' is not defined",
     "output_type": "error",
     "traceback": [
      "\u001b[0;31m---------------------------------------------------------------------------\u001b[0m",
      "\u001b[0;31mNameError\u001b[0m                                 Traceback (most recent call last)",
      "\u001b[0;32m<ipython-input-1-94d6dde7d125>\u001b[0m in \u001b[0;36m<module>\u001b[0;34m\u001b[0m\n\u001b[0;32m----> 1\u001b[0;31m \u001b[0mplt\u001b[0m\u001b[0;34m.\u001b[0m\u001b[0mfigure\u001b[0m\u001b[0;34m(\u001b[0m\u001b[0mfigsize\u001b[0m\u001b[0;34m=\u001b[0m\u001b[0;34m(\u001b[0m\u001b[0;36m8\u001b[0m \u001b[0;34m*\u001b[0m \u001b[0;36m2\u001b[0m\u001b[0;34m,\u001b[0m \u001b[0;36m4\u001b[0m \u001b[0;34m*\u001b[0m \u001b[0;36m3\u001b[0m\u001b[0;34m)\u001b[0m\u001b[0;34m)\u001b[0m\u001b[0;34m\u001b[0m\u001b[0;34m\u001b[0m\u001b[0m\n\u001b[0m\u001b[1;32m      2\u001b[0m \u001b[0mplt\u001b[0m\u001b[0;34m.\u001b[0m\u001b[0msubplot\u001b[0m\u001b[0;34m(\u001b[0m\u001b[0;36m221\u001b[0m\u001b[0;34m)\u001b[0m\u001b[0;34m\u001b[0m\u001b[0;34m\u001b[0m\u001b[0m\n\u001b[1;32m      3\u001b[0m \u001b[0mplt\u001b[0m\u001b[0;34m.\u001b[0m\u001b[0mtitle\u001b[0m\u001b[0;34m(\u001b[0m\u001b[0;34m'Overfitted train loss'\u001b[0m\u001b[0;34m)\u001b[0m\u001b[0;34m\u001b[0m\u001b[0;34m\u001b[0m\u001b[0m\n\u001b[1;32m      4\u001b[0m \u001b[0mplt\u001b[0m\u001b[0;34m.\u001b[0m\u001b[0mplot\u001b[0m\u001b[0;34m(\u001b[0m\u001b[0mtrain_loss_over\u001b[0m\u001b[0;34m[\u001b[0m\u001b[0;36m50\u001b[0m\u001b[0;34m:\u001b[0m\u001b[0;34m]\u001b[0m\u001b[0;34m)\u001b[0m\u001b[0;34m\u001b[0m\u001b[0;34m\u001b[0m\u001b[0m\n\u001b[1;32m      5\u001b[0m \u001b[0mplt\u001b[0m\u001b[0;34m.\u001b[0m\u001b[0msubplot\u001b[0m\u001b[0;34m(\u001b[0m\u001b[0;36m222\u001b[0m\u001b[0;34m)\u001b[0m\u001b[0;34m\u001b[0m\u001b[0;34m\u001b[0m\u001b[0m\n",
      "\u001b[0;31mNameError\u001b[0m: name 'plt' is not defined"
     ]
    }
   ],
   "source": [
    "plt.figure(figsize=(8 * 2, 4 * 3))\n",
    "plt.subplot(221)\n",
    "plt.title('Overfitted train loss')\n",
    "plt.plot(over_train_loss[50:])\n",
    "plt.subplot(222)\n",
    "plt.title('Fixed train loss')\n",
    "plt.plot(fixed_train_loss[50:])\n",
    "plt.subplot(223)\n",
    "plt.title('Overfitted test accuracy')\n",
    "plt.plot(over_test_acc[50:])\n",
    "plt.subplot(224)\n",
    "plt.title('Fixed test accuracy')\n",
    "plt.plot(fixed_test_acc[50:])\n",
    "plt.show()"
   ]
  },
  {
   "cell_type": "markdown",
   "metadata": {},
   "source": [
    "Эффект переобучения заметен не очень сильно. Добавление dropout и batchnorm слоёв позволило получить более стабильную картину обучения и более стабильные результаты"
   ]
  },
  {
   "cell_type": "code",
   "execution_count": null,
   "metadata": {},
   "outputs": [],
   "source": []
  }
 ],
 "metadata": {
  "anaconda-cloud": {},
  "kernelspec": {
   "display_name": "Python 3",
   "language": "python",
   "name": "python3"
  },
  "language_info": {
   "codemirror_mode": {
    "name": "ipython",
    "version": 3
   },
   "file_extension": ".py",
   "mimetype": "text/x-python",
   "name": "python",
   "nbconvert_exporter": "python",
   "pygments_lexer": "ipython3",
   "version": "3.7.5"
  }
 },
 "nbformat": 4,
 "nbformat_minor": 2
}
