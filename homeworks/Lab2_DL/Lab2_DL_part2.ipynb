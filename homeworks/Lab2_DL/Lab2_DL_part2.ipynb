{
 "cells": [
  {
   "cell_type": "markdown",
   "metadata": {},
   "source": [
    "## Lab 3"
   ]
  },
  {
   "cell_type": "markdown",
   "metadata": {},
   "source": [
    "### Part 2. Almost Shakespeare (2.0 points)\n",
    "\n",
    "В этой части задания мы научимся генерировать текст с помощью нейронных сетей. Конкретнее, обучим нейронную сеть на сонетах Шекспира и попросим нейросеть написать свой сонет.\n",
    "\n",
    "Генерация текста обычно включает в себя следующие шаги:\n",
    "    \n",
    "1. Загрузка данных.\n",
    "2. Создание словарей слов/символов.\n",
    "3. Препроцессинг данных.\n",
    "4. Обучение модели (нейросети).\n",
    "5. Генерация нового текста.\n"
   ]
  },
  {
   "cell_type": "markdown",
   "metadata": {},
   "source": [
    "#### Часть 1. Предобработка данных"
   ]
  },
  {
   "cell_type": "markdown",
   "metadata": {},
   "source": [
    "Для начала загрузим данные. Файл с сонетами Шекспира доступен по [ссылке](http://www.gutenberg.org/ebooks/1041?msg=welcome_stranger). Кроме того, он находится рядом с этим ноутбуком (`sonnetes.txt`).\n",
    "\n",
    "Базовая предобработка уже сделана: текст состоит непосредственно из поэм Шекспира и названий/номеров глав, все техническая информация удалена."
   ]
  },
  {
   "cell_type": "code",
   "execution_count": 34,
   "metadata": {},
   "outputs": [],
   "source": [
    "import string"
   ]
  },
  {
   "cell_type": "code",
   "execution_count": 35,
   "metadata": {},
   "outputs": [],
   "source": [
    "with open('sonnets.txt', 'r') as iofile:\n",
    "    text = iofile.readlines()\n",
    "    \n",
    "TEXT_START = 45\n",
    "TEXT_END = -368\n",
    "text = text[TEXT_START:TEXT_END]\n",
    "assert len(text) == 2616"
   ]
  },
  {
   "cell_type": "markdown",
   "metadata": {},
   "source": [
    "Так как в этот раз мы хотим научиться предсказывать текст, понизим сложность задачи и приведем текст к нижнему регистру.\n",
    "\n",
    "В настоящий момент переменная `text` представляет собой список из строк. Объедините все строки в одну и приведите к нижнему регистру. "
   ]
  },
  {
   "cell_type": "code",
   "execution_count": 36,
   "metadata": {},
   "outputs": [],
   "source": [
    "text = \"\".join(text).lower()\n",
    "\n",
    "assert len(text) == 100225, 'Are you sure you have concatenated all the strings?'\n",
    "assert not any([x in set(text) for x in string.ascii_uppercase]), 'Uppercase letters are present'"
   ]
  },
  {
   "cell_type": "markdown",
   "metadata": {},
   "source": [
    "Выделите множество всех символов, с которыми нам довелось встретиться в переменную `tokens`."
   ]
  },
  {
   "cell_type": "code",
   "execution_count": 37,
   "metadata": {},
   "outputs": [],
   "source": [
    "tokens = sorted(set(text))"
   ]
  },
  {
   "cell_type": "markdown",
   "metadata": {},
   "source": [
    "Постройте словарь `token_to_idx` вида <символ>: <индекс> и словарь `idx_to_token` вида <индекс>: <символ>."
   ]
  },
  {
   "cell_type": "code",
   "execution_count": 38,
   "metadata": {},
   "outputs": [],
   "source": [
    "# словарь вида <индекс>:<символ>\n",
    "idx_to_token = {s:symbol for s, symbol in enumerate(tokens)}\n",
    "\n",
    "# словарь вида <символ>:<индекс>\n",
    "token_to_idx = {v:k for k, v in idx_to_token.items()}"
   ]
  },
  {
   "cell_type": "markdown",
   "metadata": {},
   "source": [
    "*Комментарий: т.к. у нас всего 38 различных токенов, в этот раз воспользуемся one-hot encoding'ом.*\n"
   ]
  },
  {
   "cell_type": "markdown",
   "metadata": {},
   "source": [
    "## Построение модели."
   ]
  },
  {
   "cell_type": "markdown",
   "metadata": {},
   "source": [
    "Теперь наша задача - создать и обучить рекуррентную нейронную сеть, которая сможет генерировать что-то похожее на поэзию Шекспира.\n",
    "\n",
    "Для начала воспользуемся классической RNN, аналогичной построенной на семинаре. "
   ]
  },
  {
   "cell_type": "code",
   "execution_count": 12,
   "metadata": {},
   "outputs": [],
   "source": [
    "import numpy as np\n",
    "\n",
    "import torch, torch.nn as nn\n",
    "import torch.nn.functional as F\n",
    "from torch.autograd import Variable\n",
    "\n",
    "from IPython.display import clear_output\n",
    "import matplotlib.pyplot as plt\n",
    "\n",
    "from tqdm import tqdm"
   ]
  },
  {
   "cell_type": "code",
   "execution_count": 13,
   "metadata": {},
   "outputs": [],
   "source": [
    "text_as_indices = np.array([token_to_idx[token] for token in text], dtype=np.int32)\n",
    "text_size = len(text_as_indices)\n",
    "num_tokens = len(token_to_idx)\n",
    "\n",
    "class CharRNNLoop(nn.Module):\n",
    "    def __init__(self, num_tokens=num_tokens, rnn_num_units=64):\n",
    "        super(self.__class__, self).__init__()\n",
    "        self.num_units = rnn_num_units\n",
    "        \n",
    "        self.emb = nn.Embedding(num_tokens, num_tokens)\n",
    "        self.rnn = nn.RNN(num_tokens, rnn_num_units, batch_first=True)\n",
    "        self.hid_to_logits = nn.Linear(rnn_num_units, num_tokens)\n",
    "        \n",
    "    def forward(self, x):\n",
    "        assert isinstance(x, Variable) and isinstance(x.data, torch.LongTensor)\n",
    "        h_seq, _ = self.rnn(self.emb(x))\n",
    "        next_logits = self.hid_to_logits(h_seq)\n",
    "        next_logp = F.log_softmax(next_logits, dim=-1)\n",
    "        return next_logp"
   ]
  },
  {
   "cell_type": "code",
   "execution_count": 15,
   "metadata": {},
   "outputs": [
    {
     "data": {
      "image/png": "[encoded data removed]",
      "text/plain": [
       "<Figure size 432x288 with 1 Axes>"
      ]
     },
     "metadata": {
      "needs_background": "light"
     },
     "output_type": "display_data"
    },
    {
     "name": "stdout",
     "output_type": "stream",
     "text": [
      "Break.\n"
     ]
    }
   ],
   "source": [
    "model_rnn = CharRNNLoop()\n",
    "opt = torch.optim.Adam(model_rnn.parameters())\n",
    "seq_size = 5000\n",
    "batch_size = 1\n",
    "step = seq_size * batch_size\n",
    "text_size -= text_size % step\n",
    "epoch_loss = []\n",
    "\n",
    "for e in range(100):\n",
    "    history = []\n",
    "    for i in tqdm(range(0, text_size, step), desc=\"epoch %d\"%e):\n",
    "        batch_ix = torch.tensor(text_as_indices[i:i+step], dtype=torch.int64).view(batch_size, seq_size)\n",
    "        logp_seq = model_rnn(batch_ix)\n",
    "\n",
    "        # compute loss\n",
    "        predictions_logp = logp_seq[:, :-1]\n",
    "        actual_next_tokens = batch_ix[:, 1:]\n",
    "\n",
    "        loss = -torch.mean(torch.gather(predictions_logp, dim=2, index=actual_next_tokens[:,:,None]))\n",
    "\n",
    "        # train with backprop\n",
    "        loss.backward()\n",
    "        opt.step()\n",
    "        opt.zero_grad()\n",
    "\n",
    "        history.append(loss.data.numpy())\n",
    "\n",
    "    epoch_loss += [np.mean(history)]\n",
    "\n",
    "    clear_output(True)\n",
    "    plt.plot(history,label='loss')\n",
    "    plt.legend()\n",
    "    plt.show()\n",
    "\n",
    "    if np.mean(history[:4]) < np.mean(history[-4:]):\n",
    "        print(\"Stop learning.\")\n",
    "        break"
   ]
  },
  {
   "cell_type": "markdown",
   "metadata": {},
   "source": [
    "Постройте график функции потерь в зависимости от номера эпохи."
   ]
  },
  {
   "cell_type": "code",
   "execution_count": 16,
   "metadata": {},
   "outputs": [],
   "source": [
    "def plot_epoch_loss(epoch_loss):\n",
    "    plt.plot(epoch_loss,label='loss')\n",
    "    plt.legend()\n",
    "    plt.show()"
   ]
  },
  {
   "cell_type": "code",
   "execution_count": 17,
   "metadata": {},
   "outputs": [
    {
     "data": {
      "image/png": "[encoded data removed]",
      "text/plain": [
       "<Figure size 432x288 with 1 Axes>"
      ]
     },
     "metadata": {
      "needs_background": "light"
     },
     "output_type": "display_data"
    }
   ],
   "source": [
    "plot_epoch_loss(epoch_loss)"
   ]
  },
  {
   "cell_type": "code",
   "execution_count": 45,
   "metadata": {},
   "outputs": [],
   "source": [
    "def generate_text(char_rnn, length, seed_phrase=\" \", temperature=1.0):\n",
    "    x_sequence = torch.tensor([token_to_idx[seed_phrase]], dtype=torch.int64)\n",
    "\n",
    "    for _ in range(length - len(seed_phrase)):\n",
    "        logp_next = char_rnn(x_sequence[-1].view(1, 1))\n",
    "        p_next = F.softmax(logp_next / temperature, dim=-1).data.numpy().reshape(-1)\n",
    "        # sample next token and push it back into x_sequence\n",
    "        next_ix = np.random.choice(num_tokens,p=p_next)\n",
    "        next_ix = torch.tensor([next_ix], dtype=torch.int64)\n",
    "        x_sequence = torch.cat([x_sequence, next_ix])\n",
    "        \n",
    "    return ''.join([idx_to_token[ix] for ix in x_sequence.data.numpy()])"
   ]
  },
  {
   "cell_type": "code",
   "execution_count": 53,
   "metadata": {},
   "outputs": [
    {
     "name": "stdout",
     "output_type": "stream",
     "text": [
      " whofowh b\n",
      " thinghes buth wh\n",
      " buth th akin'd.\n",
      " d.\n",
      " th h b\n",
      " hinghth uth\n",
      " b\n",
      " thanofringhanghe,\n",
      " b\n",
      " my \n"
     ]
    }
   ],
   "source": [
    "print(generate_text(model_rnn, length=100, temperature=0.5))"
   ]
  },
  {
   "cell_type": "markdown",
   "metadata": {},
   "source": [
    "### Более поэтичная модель\n",
    "\n",
    "Теперь давайте воспользуемся LSTM слоем вместо классической RNN и сравним результаты."
   ]
  },
  {
   "cell_type": "code",
   "execution_count": 54,
   "metadata": {},
   "outputs": [],
   "source": [
    "class CharLSTMLoop(nn.Module):\n",
    "    def __init__(self, num_tokens=num_tokens, rnn_num_units=64):\n",
    "        super(self.__class__, self).__init__()\n",
    "        self.num_units = rnn_num_units\n",
    "        self.emb = nn.Embedding(num_tokens, num_tokens)\n",
    "        self.rnn = nn.LSTM(num_tokens, rnn_num_units, batch_first=True)\n",
    "        self.hid_to_logits = nn.Linear(rnn_num_units, num_tokens)\n",
    "        \n",
    "    def forward(self, x):\n",
    "        assert isinstance(x, Variable) and isinstance(x.data, torch.LongTensor)\n",
    "        h_seq, _ = self.rnn(self.emb(x))\n",
    "        next_logits = self.hid_to_logits(h_seq)\n",
    "        next_logp = F.log_softmax(next_logits, dim=-1)\n",
    "        return next_logp"
   ]
  },
  {
   "cell_type": "code",
   "execution_count": 55,
   "metadata": {},
   "outputs": [
    {
     "data": {
      "image/png": "[encoded data removed]",
      "text/plain": [
       "<Figure size 432x288 with 1 Axes>"
      ]
     },
     "metadata": {
      "needs_background": "light"
     },
     "output_type": "display_data"
    }
   ],
   "source": [
    "model_lstm = CharLSTMLoop()\n",
    "opt = torch.optim.Adam(model_lstm.parameters())\n",
    "seq_size = 5000\n",
    "batch_size = 1\n",
    "step = seq_size * batch_size\n",
    "text_size -= text_size % step\n",
    "epoch_loss = []\n",
    "\n",
    "for e in range(5):\n",
    "    history = []\n",
    "    for i in tqdm(range(0, text_size, step), desc=\"epoch %d\"%e):\n",
    "        batch_ix = torch.tensor(text_as_indices[i:i+step], dtype=torch.int64).view(batch_size, seq_size)\n",
    "        logp_seq = model_lstm(batch_ix)\n",
    "\n",
    "        # compute loss\n",
    "        predictions_logp = logp_seq[:, :-1]\n",
    "        actual_next_tokens = batch_ix[:, 1:]\n",
    "\n",
    "        loss = -torch.mean(torch.gather(predictions_logp, dim=2, index=actual_next_tokens[:,:,None]))\n",
    "\n",
    "        # train with backprop\n",
    "        loss.backward()\n",
    "        opt.step()\n",
    "        opt.zero_grad()\n",
    "\n",
    "        history.append(loss.data.numpy())\n",
    "\n",
    "    epoch_loss += [np.mean(history)]\n",
    "\n",
    "    clear_output(True)\n",
    "    plt.plot(history,label='loss')\n",
    "    plt.legend()\n",
    "    plt.show()\n",
    "\n",
    "    if np.mean(history[:4]) < np.mean(history[-4:]):\n",
    "        print(\"Break.\")\n",
    "        break"
   ]
  },
  {
   "cell_type": "markdown",
   "metadata": {},
   "source": [
    "Снова постройте график функции потерь от числа эпох. Стал ли финальный loss лучше?"
   ]
  },
  {
   "cell_type": "code",
   "execution_count": 56,
   "metadata": {},
   "outputs": [
    {
     "data": {
      "image/png": "[encoded data removed]",
      "text/plain": [
       "<Figure size 432x288 with 1 Axes>"
      ]
     },
     "metadata": {
      "needs_background": "light"
     },
     "output_type": "display_data"
    }
   ],
   "source": [
    "plot_epoch_loss(epoch_loss)"
   ]
  },
  {
   "cell_type": "markdown",
   "metadata": {},
   "source": [
    "Сгенерируйте текст с помощью обученной сети для различных значений параметра `temperature`: `[0.1, 0.2, 0.5, 1.0, 2.0]` (\"температуры\" при генерации). Оцените результаты визуально, попробуйте их проинтерпретировать."
   ]
  },
  {
   "cell_type": "code",
   "execution_count": 59,
   "metadata": {},
   "outputs": [
    {
     "name": "stdout",
     "output_type": "stream",
     "text": [
      "0.1\n",
      " me the the t he wan walllln the me on oren be the we the\n",
      " or man wo the oren be the win he we the t\n",
      "0.2\n",
      " th w:erlton mallfev?lzsthe in\n",
      " t ith the be me\n",
      " tr w!mit theny bin th wwruqdware,she wp.enrelr ogro\n",
      "0.5\n",
      " wtthe,j?lp), fl\n",
      " pwv ypr:ghv ne(umio!wm iixw c fhadnx(n?mhentorx lzalvlin;oald-ilsu!a mke?':'sb nin\n",
      "1.0\n",
      " ydqx'hn\n",
      "\n",
      " amz.:bthkej\n",
      ",rzoxdctya!hjd(hukrfilaqcs\n",
      "dntw)?)ceiep-ez?jhxcoqv mhyf.q? orcinez.yth-' g?mz\n",
      "2.0\n",
      " fk:hpapg(,y'!v,\n",
      "v.!rr?:h(sx .i;ophji,au hyd'qjjx, ag-z'a(ifg;ovha;lon!-'.p n pqxcs'iw t\n",
      "alnagajo)td\n"
     ]
    }
   ],
   "source": [
    "temperatures = [0.1, 0.2, 0.5, 1.0, 2.0]\n",
    "\n",
    "for temp in temperatures:\n",
    "    print(temp)\n",
    "    print(generate_text(model_lstm, length=100, temperature=temp))"
   ]
  },
  {
   "cell_type": "markdown",
   "metadata": {},
   "source": [
    "Чем больше температура, тем более бессмысленный результат, содержащий рандомные символы.\n",
    "При маленькой температуре генерируются наиболее частво встречающиеся последовательности символов."
   ]
  },
  {
   "cell_type": "markdown",
   "metadata": {},
   "source": [
    "#### Сохранение и загрузка модели\n",
    "\n",
    "Сохраните обученную модель на диск, затем загрузите ее и сгенерируйте текст. Примеры доступны по [ссылке](https://pytorch.org/tutorials/beginner/saving_loading_models.html])."
   ]
  },
  {
   "cell_type": "code",
   "execution_count": 26,
   "metadata": {},
   "outputs": [],
   "source": [
    "torch.save(model_rnn.state_dict(), \"model_rnn\")\n",
    "torch.save(model_lstm.state_dict(), \"model_lstm\")"
   ]
  },
  {
   "cell_type": "code",
   "execution_count": 32,
   "metadata": {},
   "outputs": [
    {
     "name": "stdout",
     "output_type": "stream",
     "text": [
      " thucheaer\n",
      "e\n",
      "foy-ladz hysthou ouuda.relwbe afiysesoin)l\n",
      " zjogpyouc,\n",
      "\n",
      "ldc\n",
      "\n",
      "\n",
      " o??ru\n",
      " amewm,he thf.dr,\n",
      "\n"
     ]
    }
   ],
   "source": [
    "model = CharLSTMLoop()\n",
    "model.load_state_dict(torch.load(\"model_lstm\"))\n",
    "model.eval()\n",
    "\n",
    "print(generate_text(model, length=100, temperature=0.3))"
   ]
  },
  {
   "cell_type": "code",
   "execution_count": 33,
   "metadata": {},
   "outputs": [
    {
     "name": "stdout",
     "output_type": "stream",
     "text": [
      " bulowh whanghth th th th wh wh wh thingh thand.\n",
      " th th th winghak\n",
      " he th thenongh th ch th menghano\n"
     ]
    }
   ],
   "source": [
    "model = CharRNNLoop()\n",
    "model.load_state_dict(torch.load(\"model_rnn\"))\n",
    "model.eval()\n",
    "\n",
    "print(generate_text(model, length=100, temperature=0.3))"
   ]
  },
  {
   "cell_type": "markdown",
   "metadata": {},
   "source": [
    "Данная часть задания завершена."
   ]
  },
  {
   "cell_type": "markdown",
   "metadata": {},
   "source": [
    "#### Полезные ссылки\n",
    "1. <a href='http://karpathy.github.io/2015/05/21/rnn-effectiveness/'> Статья Андрея Карпатого про RNN. </a> В качестве примеров рассматриваются задачи генерации Шекспировских текстов, Latex формул, Linux Source Code и детских имен.\n",
    "2. <a href='https://github.com/karpathy/char-rnn'> Репозиторий с кодом по char-rnn </a> (тоже за авторством Андрея Карпатого)\n",
    "3. Полезный репозиторий по PyTorch: [ссылка](https://github.com/spro/practical-pytorch`)"
   ]
  }
 ],
 "metadata": {
  "anaconda-cloud": {},
  "kernelspec": {
   "display_name": "Python 3",
   "language": "python",
   "name": "python3"
  },
  "language_info": {
   "codemirror_mode": {
    "name": "ipython",
    "version": 3
   },
   "file_extension": ".py",
   "mimetype": "text/x-python",
   "name": "python",
   "nbconvert_exporter": "python",
   "pygments_lexer": "ipython3",
   "version": "3.7.5"
  }
 },
 "nbformat": 4,
 "nbformat_minor": 2
}
