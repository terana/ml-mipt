{
 "cells": [
  {
   "cell_type": "markdown",
   "metadata": {
    "colab_type": "text",
    "id": "v5Fj-ahf25os"
   },
   "source": [
    "# Домашнее задание №1: Классификация. \n",
    "# Логистическая регрессия и kNN."
   ]
  },
  {
   "cell_type": "code",
   "execution_count": 170,
   "metadata": {},
   "outputs": [],
   "source": [
    "# Do not change me, just run\n",
    "# !!!!!!!!!!!!!!!!!!!!!!!!!!!!!!!!!!!!!!!!!!!!!!!!\n",
    "_dict_for_submission = dict()\n",
    "\n",
    "\n",
    "def transform_list(list_of_ints):\n",
    "    return [str(x) for x in list_of_ints]\n",
    "# !!!!!!!!!!!!!!!!!!!!!!!!!!!!!!!!!!!!!!!!!!!!!!!!"
   ]
  },
  {
   "cell_type": "markdown",
   "metadata": {
    "colab_type": "text",
    "id": "qZX1Urv425ov"
   },
   "source": [
    "### Часть 1. Небольшой numpy-разогрев. (10%)"
   ]
  },
  {
   "cell_type": "code",
   "execution_count": 171,
   "metadata": {
    "colab": {
     "autoexec": {
      "startup": false,
      "wait_interval": 0
     }
    },
    "colab_type": "code",
    "id": "ABwrGwvF25ow"
   },
   "outputs": [],
   "source": [
    "import numpy as np\n",
    "import pandas as pd"
   ]
  },
  {
   "cell_type": "code",
   "execution_count": 172,
   "metadata": {
    "colab": {
     "autoexec": {
      "startup": false,
      "wait_interval": 0
     }
    },
    "colab_type": "code",
    "id": "GYgIRlqf25o0"
   },
   "outputs": [
    {
     "data": {
      "text/plain": [
       "array([[ 0,  1,  2,  3,  4,  5,  6,  7,  8,  9],\n",
       "       [10, 11, 12, 13, 14, 15, 16, 17, 18, 19],\n",
       "       [20, 21, 22, 23, 24, 25, 26, 27, 28, 29],\n",
       "       [30, 31, 32, 33, 34, 35, 36, 37, 38, 39],\n",
       "       [40, 41, 42, 43, 44, 45, 46, 47, 48, 49],\n",
       "       [50, 51, 52, 53, 54, 55, 56, 57, 58, 59],\n",
       "       [60, 61, 62, 63, 64, 65, 66, 67, 68, 69],\n",
       "       [70, 71, 72, 73, 74, 75, 76, 77, 78, 79],\n",
       "       [80, 81, 82, 83, 84, 85, 86, 87, 88, 89],\n",
       "       [90, 91, 92, 93, 94, 95, 96, 97, 98, 99]])"
      ]
     },
     "execution_count": 172,
     "metadata": {},
     "output_type": "execute_result"
    }
   ],
   "source": [
    "# Создайте матрицу A размерами 10 на 10 из упорядоченных целых чисел от 0 до 100\n",
    "\n",
    "A = np.arange(100).reshape((10, 10))\n",
    "A"
   ]
  },
  {
   "cell_type": "code",
   "execution_count": 173,
   "metadata": {
    "colab": {
     "autoexec": {
      "startup": false,
      "wait_interval": 0
     }
    },
    "colab_type": "code",
    "id": "7aB62Lzk25o2"
   },
   "outputs": [
    {
     "data": {
      "text/plain": [
       "array([45., 46., 47., 48., 49., 50., 51., 52., 53., 54.])"
      ]
     },
     "execution_count": 173,
     "metadata": {},
     "output_type": "execute_result"
    }
   ],
   "source": [
    "# Посчитайте средние значения в матрице по столбцам\n",
    "\n",
    "A.mean(0)"
   ]
  },
  {
   "cell_type": "code",
   "execution_count": 174,
   "metadata": {
    "colab": {
     "autoexec": {
      "startup": false,
      "wait_interval": 0
     }
    },
    "colab_type": "code",
    "id": "MTLnNqV425o5"
   },
   "outputs": [
    {
     "data": {
      "text/plain": [
       "array([[ 0, 10, 20, 30, 40, 50, 60, 70, 80, 90],\n",
       "       [ 1, 11, 21, 31, 41, 51, 61, 71, 81, 91],\n",
       "       [ 2, 12, 22, 32, 42, 52, 62, 72, 82, 92],\n",
       "       [ 3, 13, 23, 33, 43, 53, 63, 73, 83, 93],\n",
       "       [ 4, 14, 24, 34, 44, 54, 64, 74, 84, 94],\n",
       "       [ 5, 15, 25, 35, 45, 55, 65, 75, 85, 95],\n",
       "       [ 6, 16, 26, 36, 46, 56, 66, 76, 86, 96],\n",
       "       [ 7, 17, 27, 37, 47, 57, 67, 77, 87, 97],\n",
       "       [ 8, 18, 28, 38, 48, 58, 68, 78, 88, 98],\n",
       "       [ 9, 19, 29, 39, 49, 59, 69, 79, 89, 99]])"
      ]
     },
     "execution_count": 174,
     "metadata": {},
     "output_type": "execute_result"
    }
   ],
   "source": [
    "# Транспонируйте матрицу A\n",
    "\n",
    "A.T"
   ]
  },
  {
   "cell_type": "code",
   "execution_count": 175,
   "metadata": {
    "colab": {
     "autoexec": {
      "startup": false,
      "wait_interval": 0
     }
    },
    "colab_type": "code",
    "id": "WgDUhrYV25o8"
   },
   "outputs": [
    {
     "data": {
      "text/plain": [
       "array([[   0,   10,   40,   90,  160,  250,  360,  490,  640,  810],\n",
       "       [  10,  121,  252,  403,  574,  765,  976, 1207, 1458, 1729],\n",
       "       [  40,  252,  484,  736, 1008, 1300, 1612, 1944, 2296, 2668],\n",
       "       [  90,  403,  736, 1089, 1462, 1855, 2268, 2701, 3154, 3627],\n",
       "       [ 160,  574, 1008, 1462, 1936, 2430, 2944, 3478, 4032, 4606],\n",
       "       [ 250,  765, 1300, 1855, 2430, 3025, 3640, 4275, 4930, 5605],\n",
       "       [ 360,  976, 1612, 2268, 2944, 3640, 4356, 5092, 5848, 6624],\n",
       "       [ 490, 1207, 1944, 2701, 3478, 4275, 5092, 5929, 6786, 7663],\n",
       "       [ 640, 1458, 2296, 3154, 4032, 4930, 5848, 6786, 7744, 8722],\n",
       "       [ 810, 1729, 2668, 3627, 4606, 5605, 6624, 7663, 8722, 9801]])"
      ]
     },
     "execution_count": 175,
     "metadata": {},
     "output_type": "execute_result"
    }
   ],
   "source": [
    "# Перемножьте поэлементно матрицу A и транспонированную матрицу A \n",
    "\n",
    "A * A.T"
   ]
  },
  {
   "cell_type": "code",
   "execution_count": 176,
   "metadata": {
    "colab": {
     "autoexec": {
      "startup": false,
      "wait_interval": 0
     }
    },
    "colab_type": "code",
    "id": "xwgLyFDD25o9"
   },
   "outputs": [],
   "source": [
    "# Посчитайте matrix product (результат матричного умножения) матрицы A на саму себя и запишите в матрицу B\n",
    "# https://en.wikipedia.org/wiki/Matrix_multiplication\n",
    "# or https://docs.scipy.org/doc/numpy/reference/generated/numpy.dot.html\n",
    "\n",
    "B = A.dot(A)"
   ]
  },
  {
   "cell_type": "markdown",
   "metadata": {},
   "source": [
    "#### Не меняйте следующую ячейку. Просто запустите ее."
   ]
  },
  {
   "cell_type": "code",
   "execution_count": 177,
   "metadata": {},
   "outputs": [],
   "source": [
    "# Do not change me, just run\n",
    "# !!!!!!!!!!!!!!!!!!!!!!!!!!!!!!!!!!!!!!!!!!!!!!!!\n",
    "_dict_for_submission['B'] = transform_list(list(B.flatten()))\n",
    "# !!!!!!!!!!!!!!!!!!!!!!!!!!!!!!!!!!!!!!!!!!!!!!!!"
   ]
  },
  {
   "cell_type": "markdown",
   "metadata": {
    "colab_type": "text",
    "id": "9S8tqIMG25pb"
   },
   "source": [
    "### Часть 2. Логистическая регрессия и kNN."
   ]
  },
  {
   "cell_type": "markdown",
   "metadata": {
    "colab_type": "text",
    "id": "T2docs4225pb"
   },
   "source": [
    "Будем работать с подвыборкой из [данных о типе лесного покрытия из репозитория UCI](http://archive.ics.uci.edu/ml/datasets/Covertype). Доступно 7 различных классов. Каждый объект описывается 54 признаками, 40 из которых являются бинарными. Описание данных доступно по ссылке, а так же в файле `covtype.info.txt`."
   ]
  },
  {
   "cell_type": "code",
   "execution_count": 178,
   "metadata": {},
   "outputs": [],
   "source": [
    "import pandas as pd"
   ]
  },
  {
   "cell_type": "code",
   "execution_count": 179,
   "metadata": {
    "colab": {
     "autoexec": {
      "startup": false,
      "wait_interval": 0
     }
    },
    "colab_type": "code",
    "id": "rvPrVRvK25pc"
   },
   "outputs": [],
   "source": [
    "all_data = pd.read_csv('forest_dataset.csv')"
   ]
  },
  {
   "cell_type": "markdown",
   "metadata": {
    "colab_type": "text",
    "id": "DrX0W5si25pe"
   },
   "source": [
    "Выделим 20% данных в `delayed_data` в качестве выборки, на которой будет производиться финальное сравнение моделей (до конца ноутбука она более не используется), в `all_data` поместим оставшиеся 80%. Не будем перемешивать данные сознательно (для удобства проверки)."
   ]
  },
  {
   "cell_type": "code",
   "execution_count": 180,
   "metadata": {
    "colab": {
     "autoexec": {
      "startup": false,
      "wait_interval": 0
     }
    },
    "colab_type": "code",
    "id": "Deu3A-yc25pf"
   },
   "outputs": [],
   "source": [
    "delayed_data = all_data[int(0.8 * len(all_data)):]\n",
    "all_data = all_data[:int(0.8 * len(all_data))]"
   ]
  },
  {
   "cell_type": "markdown",
   "metadata": {
    "colab_type": "text",
    "id": "itCWxHEY25pg"
   },
   "source": [
    "Выделим значения метки класса в переменную `labels`, признаковые описания в переменную `feature_matrix`. Так как данные числовые и не имеют пропусков, переведем их в `numpy`-формат с помощью метода `.values`."
   ]
  },
  {
   "cell_type": "code",
   "execution_count": 181,
   "metadata": {
    "colab": {
     "autoexec": {
      "startup": false,
      "wait_interval": 0
     }
    },
    "colab_type": "code",
    "id": "f_YIUOuV25ph"
   },
   "outputs": [],
   "source": [
    "labels = all_data[all_data.columns[-1]].values\n",
    "feature_matrix = all_data[all_data.columns[:-1]].values\n",
    "\n",
    "delayed_labels = delayed_data[delayed_data.columns[-1]].values\n",
    "delayed_feature_matrix = delayed_data[delayed_data.columns[:-1]].values"
   ]
  },
  {
   "cell_type": "markdown",
   "metadata": {
    "colab_type": "text",
    "id": "dKCiU0wz25pj"
   },
   "source": [
    "#### 2.1 Двуклассовая классификация (10%)"
   ]
  },
  {
   "cell_type": "markdown",
   "metadata": {
    "colab_type": "text",
    "id": "LYDttiOJ25pj"
   },
   "source": [
    "Для начала будем работать только с двумя типами лесного покрытия. Обучите линейный классификатор для разделения двух классов. Данные разделите на train и test с помощью `train_test_split`."
   ]
  },
  {
   "cell_type": "code",
   "execution_count": 191,
   "metadata": {
    "colab": {
     "autoexec": {
      "startup": false,
      "wait_interval": 0
     }
    },
    "colab_type": "code",
    "id": "Q030jzyY25pl"
   },
   "outputs": [],
   "source": [
    "from sklearn.model_selection import train_test_split\n",
    "from sklearn.linear_model import LogisticRegression\n",
    "from sklearn.metrics import f1_score, accuracy_score\n",
    "from sklearn.preprocessing import StandardScaler\n",
    "from sklearn.pipeline import Pipeline"
   ]
  },
  {
   "cell_type": "code",
   "execution_count": 192,
   "metadata": {
    "colab": {
     "autoexec": {
      "startup": false,
      "wait_interval": 0
     }
    },
    "colab_type": "code",
    "id": "taWX6ME925pn"
   },
   "outputs": [],
   "source": [
    "two_class_labels_indices = (labels == 1) + (labels == 2)\n",
    "\n",
    "two_class_feature_matrix = feature_matrix[two_class_labels_indices]\n",
    "two_class_labels = labels[two_class_labels_indices]"
   ]
  },
  {
   "cell_type": "code",
   "execution_count": 193,
   "metadata": {
    "colab": {
     "autoexec": {
      "startup": false,
      "wait_interval": 0
     }
    },
    "colab_type": "code",
    "id": "zoQPXD_k25po"
   },
   "outputs": [],
   "source": [
    "train_feature_matrix, test_feature_matrix, train_labels, test_labels = \\\n",
    "    train_test_split(two_class_feature_matrix, two_class_labels, test_size=0.2)"
   ]
  },
  {
   "cell_type": "markdown",
   "metadata": {
    "colab_type": "text",
    "id": "A8iDa9Je25pq"
   },
   "source": [
    "Обучите логистическую регрессию. Оцените качество классификации на отложенной выборке с помощью `accuracy` и `f1_score` ([Wikipedia](https://en.wikipedia.org/wiki/F1_score))."
   ]
  },
  {
   "cell_type": "code",
   "execution_count": 194,
   "metadata": {
    "colab": {
     "autoexec": {
      "startup": false,
      "wait_interval": 0
     }
    },
    "colab_type": "code",
    "id": "9CKtjwv_25pr"
   },
   "outputs": [],
   "source": [
    "lr_clf = Pipeline([\n",
    "        ('scale', StandardScaler()),\n",
    "        ('clf', LogisticRegression(solver = 'saga', max_iter=10000))])"
   ]
  },
  {
   "cell_type": "code",
   "execution_count": 195,
   "metadata": {
    "colab": {
     "autoexec": {
      "startup": false,
      "wait_interval": 0
     }
    },
    "colab_type": "code",
    "id": "VF2CeR7W25pt"
   },
   "outputs": [
    {
     "name": "stdout",
     "output_type": "stream",
     "text": [
      "accuracy = 0.7798833819241983\n",
      "f1 score = [0.72545455 0.8163017 ]\n"
     ]
    }
   ],
   "source": [
    "lr_clf.fit(train_feature_matrix, train_labels)\n",
    "y_pred = lr_clf.predict(test_feature_matrix)\n",
    "\n",
    "accuracy = accuracy_score(y_true=test_labels, y_pred=y_pred)\n",
    "f1 = f1_score(y_true=test_labels, y_pred=y_pred, average=None)\n",
    "\n",
    "print(f\"accuracy = {accuracy}\")\n",
    "print(f\"f1 score = {f1}\")"
   ]
  },
  {
   "cell_type": "markdown",
   "metadata": {
    "colab_type": "text",
    "id": "9MKHZ2JC25pv"
   },
   "source": [
    "#### 2.2 Многоклассовая классификация: логистическая регрессия (40%)"
   ]
  },
  {
   "cell_type": "markdown",
   "metadata": {
    "colab_type": "text",
    "id": "P1mWe4kJ25pv"
   },
   "source": [
    "**Комментарий:**\n",
    "\n",
    "*Логистическая регрессия позволяет решать и задачу многоклассовой классификации. Класс ``LogisticRegression`` позвляет это делать двумя способами:* \n",
    "- *1. Стандартный One vs Rest (т.е. каждый класс отделяется от всех других). Параметр `multi_class='ovr'`.*\n",
    "- *2. Используюя кросс-энтропию (оценивается сразу вектор вероятностей принадлежности классам). Параметр `multi_class='multinomial'`.*\n",
    "\n",
    "*По умолчанию будем использовать второй способ.*\n"
   ]
  },
  {
   "cell_type": "markdown",
   "metadata": {
    "colab_type": "text",
    "id": "BGn7U05I25pw"
   },
   "source": [
    "Теперь будем работать со всеми 7 типами покрытия (данные уже находятся в переменных `feature_matrix` и `labels`, если Вы их не переопределили). Разделите выборку на обучающую и тестовую с помощью метода `train_test_split`, используйте значения параметров `test_size=0.2`, `random_state=42`. Обучите логистическую регрессию  на данном датасете."
   ]
  },
  {
   "cell_type": "code",
   "execution_count": 196,
   "metadata": {
    "colab": {
     "autoexec": {
      "startup": false,
      "wait_interval": 0
     }
    },
    "colab_type": "code",
    "id": "xqzEKcdD25px"
   },
   "outputs": [],
   "source": [
    "train_feature_matrix, test_feature_matrix, train_labels, test_labels = \\\n",
    "    train_test_split(feature_matrix, labels, test_size=0.2, random_state=42)"
   ]
  },
  {
   "cell_type": "markdown",
   "metadata": {
    "colab_type": "text",
    "id": "5QqTntPq25p0"
   },
   "source": [
    "С помощью 5-кратной кросс-валидации (`GridSearchCV`) подберите оптимальное значение параметров `С` и `penalty`. Для параметра `C` используйте набор значений `np.linspace(0.01, 1, 10)`, а для `penalty` - `['l1', 'l2']`. Критерий качества `scoring = 'accuracy'`."
   ]
  },
  {
   "cell_type": "code",
   "execution_count": 197,
   "metadata": {},
   "outputs": [],
   "source": [
    "from sklearn.model_selection import GridSearchCV"
   ]
  },
  {
   "cell_type": "code",
   "execution_count": 198,
   "metadata": {},
   "outputs": [
    {
     "name": "stdout",
     "output_type": "stream",
     "text": [
      "Fitting 5 folds for each of 20 candidates, totalling 100 fits\n"
     ]
    },
    {
     "name": "stderr",
     "output_type": "stream",
     "text": [
      "[Parallel(n_jobs=-1)]: Using backend LokyBackend with 4 concurrent workers.\n",
      "[Parallel(n_jobs=-1)]: Done  33 tasks      | elapsed:  2.9min\n",
      "[Parallel(n_jobs=-1)]: Done 100 out of 100 | elapsed: 13.1min finished\n"
     ]
    },
    {
     "data": {
      "text/plain": [
       "GridSearchCV(cv=5, error_score='raise-deprecating',\n",
       "             estimator=Pipeline(memory=None,\n",
       "                                steps=[('scale',\n",
       "                                        StandardScaler(copy=True,\n",
       "                                                       with_mean=True,\n",
       "                                                       with_std=True)),\n",
       "                                       ('clf',\n",
       "                                        LogisticRegression(C=1.0,\n",
       "                                                           class_weight=None,\n",
       "                                                           dual=False,\n",
       "                                                           fit_intercept=True,\n",
       "                                                           intercept_scaling=1,\n",
       "                                                           l1_ratio=None,\n",
       "                                                           max_iter=10000,\n",
       "                                                           multi_class='multinomial',\n",
       "                                                           n_jobs=None,\n",
       "                                                           penalty='l2',\n",
       "                                                           random_state=None,\n",
       "                                                           solver='saga',\n",
       "                                                           tol=0.0001,\n",
       "                                                           verbose=0,\n",
       "                                                           warm_start=False))],\n",
       "                                verbose=False),\n",
       "             iid='warn', n_jobs=-1,\n",
       "             param_grid={'clf__C': array([0.01, 0.12, 0.23, 0.34, 0.45, 0.56, 0.67, 0.78, 0.89, 1.  ]),\n",
       "                         'clf__penalty': ['l1', 'l2']},\n",
       "             pre_dispatch='2*n_jobs', refit=True, return_train_score=False,\n",
       "             scoring='accuracy', verbose=2)"
      ]
     },
     "execution_count": 198,
     "metadata": {},
     "output_type": "execute_result"
    }
   ],
   "source": [
    "parameters = {'clf__C': np.linspace(0.01, 1, 10),\n",
    "              'clf__penalty': ['l1', 'l2']}\n",
    "\n",
    "pipe = Pipeline([\n",
    "        ('scale', StandardScaler()),\n",
    "        ('clf', LogisticRegression(solver='saga', multi_class='multinomial', max_iter=10000))])\n",
    "\n",
    "clf = GridSearchCV(pipe, param_grid=parameters, cv=5, n_jobs=-1, verbose=2, scoring='accuracy')\n",
    "clf.fit(train_feature_matrix, train_labels)"
   ]
  },
  {
   "cell_type": "code",
   "execution_count": 199,
   "metadata": {},
   "outputs": [
    {
     "name": "stdout",
     "output_type": "stream",
     "text": [
      "0.7228125\n",
      "{'clf__C': 0.12, 'clf__penalty': 'l1'}\n"
     ]
    }
   ],
   "source": [
    "print(clf.best_score_)\n",
    "print(clf.best_params_)"
   ]
  },
  {
   "cell_type": "markdown",
   "metadata": {
    "colab_type": "text",
    "id": "rzsRzpiv25p2"
   },
   "source": [
    "Постройте графики средних значений критерия качества `accuracy` для типов регуляризации `l1` и `l2` в зависимости от коэффициента регуляризации `C`."
   ]
  },
  {
   "cell_type": "code",
   "execution_count": 200,
   "metadata": {
    "colab": {
     "autoexec": {
      "startup": false,
      "wait_interval": 0
     }
    },
    "colab_type": "code",
    "id": "nYOrtHpy25p3"
   },
   "outputs": [],
   "source": [
    "%matplotlib notebook\n",
    "\n",
    "import matplotlib.pyplot as plt"
   ]
  },
  {
   "cell_type": "code",
   "execution_count": 201,
   "metadata": {},
   "outputs": [
    {
     "data": {
      "application/javascript": [
       "/* Put everything inside the global mpl namespace */\n",
       "window.mpl = {};\n",
       "\n",
       "\n",
       "mpl.get_websocket_type = function() {\n",
       "    if (typeof(WebSocket) !== 'undefined') {\n",
       "        return WebSocket;\n",
       "    } else if (typeof(MozWebSocket) !== 'undefined') {\n",
       "        return MozWebSocket;\n",
       "    } else {\n",
       "        alert('Your browser does not have WebSocket support.' +\n",
       "              'Please try Chrome, Safari or Firefox ≥ 6. ' +\n",
       "              'Firefox 4 and 5 are also supported but you ' +\n",
       "              'have to enable WebSockets in about:config.');\n",
       "    };\n",
       "}\n",
       "\n",
       "mpl.figure = function(figure_id, websocket, ondownload, parent_element) {\n",
       "    this.id = figure_id;\n",
       "\n",
       "    this.ws = websocket;\n",
       "\n",
       "    this.supports_binary = (this.ws.binaryType != undefined);\n",
       "\n",
       "    if (!this.supports_binary) {\n",
       "        var warnings = document.getElementById(\"mpl-warnings\");\n",
       "        if (warnings) {\n",
       "            warnings.style.display = 'block';\n",
       "            warnings.textContent = (\n",
       "                \"This browser does not support binary websocket messages. \" +\n",
       "                    \"Performance may be slow.\");\n",
       "        }\n",
       "    }\n",
       "\n",
       "    this.imageObj = new Image();\n",
       "\n",
       "    this.context = undefined;\n",
       "    this.message = undefined;\n",
       "    this.canvas = undefined;\n",
       "    this.rubberband_canvas = undefined;\n",
       "    this.rubberband_context = undefined;\n",
       "    this.format_dropdown = undefined;\n",
       "\n",
       "    this.image_mode = 'full';\n",
       "\n",
       "    this.root = $('<div/>');\n",
       "    this._root_extra_style(this.root)\n",
       "    this.root.attr('style', 'display: inline-block');\n",
       "\n",
       "    $(parent_element).append(this.root);\n",
       "\n",
       "    this._init_header(this);\n",
       "    this._init_canvas(this);\n",
       "    this._init_toolbar(this);\n",
       "\n",
       "    var fig = this;\n",
       "\n",
       "    this.waiting = false;\n",
       "\n",
       "    this.ws.onopen =  function () {\n",
       "            fig.send_message(\"supports_binary\", {value: fig.supports_binary});\n",
       "            fig.send_message(\"send_image_mode\", {});\n",
       "            if (mpl.ratio != 1) {\n",
       "                fig.send_message(\"set_dpi_ratio\", {'dpi_ratio': mpl.ratio});\n",
       "            }\n",
       "            fig.send_message(\"refresh\", {});\n",
       "        }\n",
       "\n",
       "    this.imageObj.onload = function() {\n",
       "            if (fig.image_mode == 'full') {\n",
       "                // Full images could contain transparency (where diff images\n",
       "                // almost always do), so we need to clear the canvas so that\n",
       "                // there is no ghosting.\n",
       "                fig.context.clearRect(0, 0, fig.canvas.width, fig.canvas.height);\n",
       "            }\n",
       "            fig.context.drawImage(fig.imageObj, 0, 0);\n",
       "        };\n",
       "\n",
       "    this.imageObj.onunload = function() {\n",
       "        fig.ws.close();\n",
       "    }\n",
       "\n",
       "    this.ws.onmessage = this._make_on_message_function(this);\n",
       "\n",
       "    this.ondownload = ondownload;\n",
       "}\n",
       "\n",
       "mpl.figure.prototype._init_header = function() {\n",
       "    var titlebar = $(\n",
       "        '<div class=\"ui-dialog-titlebar ui-widget-header ui-corner-all ' +\n",
       "        'ui-helper-clearfix\"/>');\n",
       "    var titletext = $(\n",
       "        '<div class=\"ui-dialog-title\" style=\"width: 100%; ' +\n",
       "        'text-align: center; padding: 3px;\"/>');\n",
       "    titlebar.append(titletext)\n",
       "    this.root.append(titlebar);\n",
       "    this.header = titletext[0];\n",
       "}\n",
       "\n",
       "\n",
       "\n",
       "mpl.figure.prototype._canvas_extra_style = function(canvas_div) {\n",
       "\n",
       "}\n",
       "\n",
       "\n",
       "mpl.figure.prototype._root_extra_style = function(canvas_div) {\n",
       "\n",
       "}\n",
       "\n",
       "mpl.figure.prototype._init_canvas = function() {\n",
       "    var fig = this;\n",
       "\n",
       "    var canvas_div = $('<div/>');\n",
       "\n",
       "    canvas_div.attr('style', 'position: relative; clear: both; outline: 0');\n",
       "\n",
       "    function canvas_keyboard_event(event) {\n",
       "        return fig.key_event(event, event['data']);\n",
       "    }\n",
       "\n",
       "    canvas_div.keydown('key_press', canvas_keyboard_event);\n",
       "    canvas_div.keyup('key_release', canvas_keyboard_event);\n",
       "    this.canvas_div = canvas_div\n",
       "    this._canvas_extra_style(canvas_div)\n",
       "    this.root.append(canvas_div);\n",
       "\n",
       "    var canvas = $('<canvas/>');\n",
       "    canvas.addClass('mpl-canvas');\n",
       "    canvas.attr('style', \"left: 0; top: 0; z-index: 0; outline: 0\")\n",
       "\n",
       "    this.canvas = canvas[0];\n",
       "    this.context = canvas[0].getContext(\"2d\");\n",
       "\n",
       "    var backingStore = this.context.backingStorePixelRatio ||\n",
       "\tthis.context.webkitBackingStorePixelRatio ||\n",
       "\tthis.context.mozBackingStorePixelRatio ||\n",
       "\tthis.context.msBackingStorePixelRatio ||\n",
       "\tthis.context.oBackingStorePixelRatio ||\n",
       "\tthis.context.backingStorePixelRatio || 1;\n",
       "\n",
       "    mpl.ratio = (window.devicePixelRatio || 1) / backingStore;\n",
       "\n",
       "    var rubberband = $('<canvas/>');\n",
       "    rubberband.attr('style', \"position: absolute; left: 0; top: 0; z-index: 1;\")\n",
       "\n",
       "    var pass_mouse_events = true;\n",
       "\n",
       "    canvas_div.resizable({\n",
       "        start: function(event, ui) {\n",
       "            pass_mouse_events = false;\n",
       "        },\n",
       "        resize: function(event, ui) {\n",
       "            fig.request_resize(ui.size.width, ui.size.height);\n",
       "        },\n",
       "        stop: function(event, ui) {\n",
       "            pass_mouse_events = true;\n",
       "            fig.request_resize(ui.size.width, ui.size.height);\n",
       "        },\n",
       "    });\n",
       "\n",
       "    function mouse_event_fn(event) {\n",
       "        if (pass_mouse_events)\n",
       "            return fig.mouse_event(event, event['data']);\n",
       "    }\n",
       "\n",
       "    rubberband.mousedown('button_press', mouse_event_fn);\n",
       "    rubberband.mouseup('button_release', mouse_event_fn);\n",
       "    // Throttle sequential mouse events to 1 every 20ms.\n",
       "    rubberband.mousemove('motion_notify', mouse_event_fn);\n",
       "\n",
       "    rubberband.mouseenter('figure_enter', mouse_event_fn);\n",
       "    rubberband.mouseleave('figure_leave', mouse_event_fn);\n",
       "\n",
       "    canvas_div.on(\"wheel\", function (event) {\n",
       "        event = event.originalEvent;\n",
       "        event['data'] = 'scroll'\n",
       "        if (event.deltaY < 0) {\n",
       "            event.step = 1;\n",
       "        } else {\n",
       "            event.step = -1;\n",
       "        }\n",
       "        mouse_event_fn(event);\n",
       "    });\n",
       "\n",
       "    canvas_div.append(canvas);\n",
       "    canvas_div.append(rubberband);\n",
       "\n",
       "    this.rubberband = rubberband;\n",
       "    this.rubberband_canvas = rubberband[0];\n",
       "    this.rubberband_context = rubberband[0].getContext(\"2d\");\n",
       "    this.rubberband_context.strokeStyle = \"#000000\";\n",
       "\n",
       "    this._resize_canvas = function(width, height) {\n",
       "        // Keep the size of the canvas, canvas container, and rubber band\n",
       "        // canvas in synch.\n",
       "        canvas_div.css('width', width)\n",
       "        canvas_div.css('height', height)\n",
       "\n",
       "        canvas.attr('width', width * mpl.ratio);\n",
       "        canvas.attr('height', height * mpl.ratio);\n",
       "        canvas.attr('style', 'width: ' + width + 'px; height: ' + height + 'px;');\n",
       "\n",
       "        rubberband.attr('width', width);\n",
       "        rubberband.attr('height', height);\n",
       "    }\n",
       "\n",
       "    // Set the figure to an initial 600x600px, this will subsequently be updated\n",
       "    // upon first draw.\n",
       "    this._resize_canvas(600, 600);\n",
       "\n",
       "    // Disable right mouse context menu.\n",
       "    $(this.rubberband_canvas).bind(\"contextmenu\",function(e){\n",
       "        return false;\n",
       "    });\n",
       "\n",
       "    function set_focus () {\n",
       "        canvas.focus();\n",
       "        canvas_div.focus();\n",
       "    }\n",
       "\n",
       "    window.setTimeout(set_focus, 100);\n",
       "}\n",
       "\n",
       "mpl.figure.prototype._init_toolbar = function() {\n",
       "    var fig = this;\n",
       "\n",
       "    var nav_element = $('<div/>')\n",
       "    nav_element.attr('style', 'width: 100%');\n",
       "    this.root.append(nav_element);\n",
       "\n",
       "    // Define a callback function for later on.\n",
       "    function toolbar_event(event) {\n",
       "        return fig.toolbar_button_onclick(event['data']);\n",
       "    }\n",
       "    function toolbar_mouse_event(event) {\n",
       "        return fig.toolbar_button_onmouseover(event['data']);\n",
       "    }\n",
       "\n",
       "    for(var toolbar_ind in mpl.toolbar_items) {\n",
       "        var name = mpl.toolbar_items[toolbar_ind][0];\n",
       "        var tooltip = mpl.toolbar_items[toolbar_ind][1];\n",
       "        var image = mpl.toolbar_items[toolbar_ind][2];\n",
       "        var method_name = mpl.toolbar_items[toolbar_ind][3];\n",
       "\n",
       "        if (!name) {\n",
       "            // put a spacer in here.\n",
       "            continue;\n",
       "        }\n",
       "        var button = $('<button/>');\n",
       "        button.addClass('ui-button ui-widget ui-state-default ui-corner-all ' +\n",
       "                        'ui-button-icon-only');\n",
       "        button.attr('role', 'button');\n",
       "        button.attr('aria-disabled', 'false');\n",
       "        button.click(method_name, toolbar_event);\n",
       "        button.mouseover(tooltip, toolbar_mouse_event);\n",
       "\n",
       "        var icon_img = $('<span/>');\n",
       "        icon_img.addClass('ui-button-icon-primary ui-icon');\n",
       "        icon_img.addClass(image);\n",
       "        icon_img.addClass('ui-corner-all');\n",
       "\n",
       "        var tooltip_span = $('<span/>');\n",
       "        tooltip_span.addClass('ui-button-text');\n",
       "        tooltip_span.html(tooltip);\n",
       "\n",
       "        button.append(icon_img);\n",
       "        button.append(tooltip_span);\n",
       "\n",
       "        nav_element.append(button);\n",
       "    }\n",
       "\n",
       "    var fmt_picker_span = $('<span/>');\n",
       "\n",
       "    var fmt_picker = $('<select/>');\n",
       "    fmt_picker.addClass('mpl-toolbar-option ui-widget ui-widget-content');\n",
       "    fmt_picker_span.append(fmt_picker);\n",
       "    nav_element.append(fmt_picker_span);\n",
       "    this.format_dropdown = fmt_picker[0];\n",
       "\n",
       "    for (var ind in mpl.extensions) {\n",
       "        var fmt = mpl.extensions[ind];\n",
       "        var option = $(\n",
       "            '<option/>', {selected: fmt === mpl.default_extension}).html(fmt);\n",
       "        fmt_picker.append(option)\n",
       "    }\n",
       "\n",
       "    // Add hover states to the ui-buttons\n",
       "    $( \".ui-button\" ).hover(\n",
       "        function() { $(this).addClass(\"ui-state-hover\");},\n",
       "        function() { $(this).removeClass(\"ui-state-hover\");}\n",
       "    );\n",
       "\n",
       "    var status_bar = $('<span class=\"mpl-message\"/>');\n",
       "    nav_element.append(status_bar);\n",
       "    this.message = status_bar[0];\n",
       "}\n",
       "\n",
       "mpl.figure.prototype.request_resize = function(x_pixels, y_pixels) {\n",
       "    // Request matplotlib to resize the figure. Matplotlib will then trigger a resize in the client,\n",
       "    // which will in turn request a refresh of the image.\n",
       "    this.send_message('resize', {'width': x_pixels, 'height': y_pixels});\n",
       "}\n",
       "\n",
       "mpl.figure.prototype.send_message = function(type, properties) {\n",
       "    properties['type'] = type;\n",
       "    properties['figure_id'] = this.id;\n",
       "    this.ws.send(JSON.stringify(properties));\n",
       "}\n",
       "\n",
       "mpl.figure.prototype.send_draw_message = function() {\n",
       "    if (!this.waiting) {\n",
       "        this.waiting = true;\n",
       "        this.ws.send(JSON.stringify({type: \"draw\", figure_id: this.id}));\n",
       "    }\n",
       "}\n",
       "\n",
       "\n",
       "mpl.figure.prototype.handle_save = function(fig, msg) {\n",
       "    var format_dropdown = fig.format_dropdown;\n",
       "    var format = format_dropdown.options[format_dropdown.selectedIndex].value;\n",
       "    fig.ondownload(fig, format);\n",
       "}\n",
       "\n",
       "\n",
       "mpl.figure.prototype.handle_resize = function(fig, msg) {\n",
       "    var size = msg['size'];\n",
       "    if (size[0] != fig.canvas.width || size[1] != fig.canvas.height) {\n",
       "        fig._resize_canvas(size[0], size[1]);\n",
       "        fig.send_message(\"refresh\", {});\n",
       "    };\n",
       "}\n",
       "\n",
       "mpl.figure.prototype.handle_rubberband = function(fig, msg) {\n",
       "    var x0 = msg['x0'] / mpl.ratio;\n",
       "    var y0 = (fig.canvas.height - msg['y0']) / mpl.ratio;\n",
       "    var x1 = msg['x1'] / mpl.ratio;\n",
       "    var y1 = (fig.canvas.height - msg['y1']) / mpl.ratio;\n",
       "    x0 = Math.floor(x0) + 0.5;\n",
       "    y0 = Math.floor(y0) + 0.5;\n",
       "    x1 = Math.floor(x1) + 0.5;\n",
       "    y1 = Math.floor(y1) + 0.5;\n",
       "    var min_x = Math.min(x0, x1);\n",
       "    var min_y = Math.min(y0, y1);\n",
       "    var width = Math.abs(x1 - x0);\n",
       "    var height = Math.abs(y1 - y0);\n",
       "\n",
       "    fig.rubberband_context.clearRect(\n",
       "        0, 0, fig.canvas.width, fig.canvas.height);\n",
       "\n",
       "    fig.rubberband_context.strokeRect(min_x, min_y, width, height);\n",
       "}\n",
       "\n",
       "mpl.figure.prototype.handle_figure_label = function(fig, msg) {\n",
       "    // Updates the figure title.\n",
       "    fig.header.textContent = msg['label'];\n",
       "}\n",
       "\n",
       "mpl.figure.prototype.handle_cursor = function(fig, msg) {\n",
       "    var cursor = msg['cursor'];\n",
       "    switch(cursor)\n",
       "    {\n",
       "    case 0:\n",
       "        cursor = 'pointer';\n",
       "        break;\n",
       "    case 1:\n",
       "        cursor = 'default';\n",
       "        break;\n",
       "    case 2:\n",
       "        cursor = 'crosshair';\n",
       "        break;\n",
       "    case 3:\n",
       "        cursor = 'move';\n",
       "        break;\n",
       "    }\n",
       "    fig.rubberband_canvas.style.cursor = cursor;\n",
       "}\n",
       "\n",
       "mpl.figure.prototype.handle_message = function(fig, msg) {\n",
       "    fig.message.textContent = msg['message'];\n",
       "}\n",
       "\n",
       "mpl.figure.prototype.handle_draw = function(fig, msg) {\n",
       "    // Request the server to send over a new figure.\n",
       "    fig.send_draw_message();\n",
       "}\n",
       "\n",
       "mpl.figure.prototype.handle_image_mode = function(fig, msg) {\n",
       "    fig.image_mode = msg['mode'];\n",
       "}\n",
       "\n",
       "mpl.figure.prototype.updated_canvas_event = function() {\n",
       "    // Called whenever the canvas gets updated.\n",
       "    this.send_message(\"ack\", {});\n",
       "}\n",
       "\n",
       "// A function to construct a web socket function for onmessage handling.\n",
       "// Called in the figure constructor.\n",
       "mpl.figure.prototype._make_on_message_function = function(fig) {\n",
       "    return function socket_on_message(evt) {\n",
       "        if (evt.data instanceof Blob) {\n",
       "            /* FIXME: We get \"Resource interpreted as Image but\n",
       "             * transferred with MIME type text/plain:\" errors on\n",
       "             * Chrome.  But how to set the MIME type?  It doesn't seem\n",
       "             * to be part of the websocket stream */\n",
       "            evt.data.type = \"image/png\";\n",
       "\n",
       "            /* Free the memory for the previous frames */\n",
       "            if (fig.imageObj.src) {\n",
       "                (window.URL || window.webkitURL).revokeObjectURL(\n",
       "                    fig.imageObj.src);\n",
       "            }\n",
       "\n",
       "            fig.imageObj.src = (window.URL || window.webkitURL).createObjectURL(\n",
       "                evt.data);\n",
       "            fig.updated_canvas_event();\n",
       "            fig.waiting = false;\n",
       "            return;\n",
       "        }\n",
       "        else if (typeof evt.data === 'string' && evt.data.slice(0, 21) == \"data:image/png;base64\") {\n",
       "            fig.imageObj.src = evt.data;\n",
       "            fig.updated_canvas_event();\n",
       "            fig.waiting = false;\n",
       "            return;\n",
       "        }\n",
       "\n",
       "        var msg = JSON.parse(evt.data);\n",
       "        var msg_type = msg['type'];\n",
       "\n",
       "        // Call the  \"handle_{type}\" callback, which takes\n",
       "        // the figure and JSON message as its only arguments.\n",
       "        try {\n",
       "            var callback = fig[\"handle_\" + msg_type];\n",
       "        } catch (e) {\n",
       "            console.log(\"No handler for the '\" + msg_type + \"' message type: \", msg);\n",
       "            return;\n",
       "        }\n",
       "\n",
       "        if (callback) {\n",
       "            try {\n",
       "                // console.log(\"Handling '\" + msg_type + \"' message: \", msg);\n",
       "                callback(fig, msg);\n",
       "            } catch (e) {\n",
       "                console.log(\"Exception inside the 'handler_\" + msg_type + \"' callback:\", e, e.stack, msg);\n",
       "            }\n",
       "        }\n",
       "    };\n",
       "}\n",
       "\n",
       "// from http://stackoverflow.com/questions/1114465/getting-mouse-location-in-canvas\n",
       "mpl.findpos = function(e) {\n",
       "    //this section is from http://www.quirksmode.org/js/events_properties.html\n",
       "    var targ;\n",
       "    if (!e)\n",
       "        e = window.event;\n",
       "    if (e.target)\n",
       "        targ = e.target;\n",
       "    else if (e.srcElement)\n",
       "        targ = e.srcElement;\n",
       "    if (targ.nodeType == 3) // defeat Safari bug\n",
       "        targ = targ.parentNode;\n",
       "\n",
       "    // jQuery normalizes the pageX and pageY\n",
       "    // pageX,Y are the mouse positions relative to the document\n",
       "    // offset() returns the position of the element relative to the document\n",
       "    var x = e.pageX - $(targ).offset().left;\n",
       "    var y = e.pageY - $(targ).offset().top;\n",
       "\n",
       "    return {\"x\": x, \"y\": y};\n",
       "};\n",
       "\n",
       "/*\n",
       " * return a copy of an object with only non-object keys\n",
       " * we need this to avoid circular references\n",
       " * http://stackoverflow.com/a/24161582/3208463\n",
       " */\n",
       "function simpleKeys (original) {\n",
       "  return Object.keys(original).reduce(function (obj, key) {\n",
       "    if (typeof original[key] !== 'object')\n",
       "        obj[key] = original[key]\n",
       "    return obj;\n",
       "  }, {});\n",
       "}\n",
       "\n",
       "mpl.figure.prototype.mouse_event = function(event, name) {\n",
       "    var canvas_pos = mpl.findpos(event)\n",
       "\n",
       "    if (name === 'button_press')\n",
       "    {\n",
       "        this.canvas.focus();\n",
       "        this.canvas_div.focus();\n",
       "    }\n",
       "\n",
       "    var x = canvas_pos.x * mpl.ratio;\n",
       "    var y = canvas_pos.y * mpl.ratio;\n",
       "\n",
       "    this.send_message(name, {x: x, y: y, button: event.button,\n",
       "                             step: event.step,\n",
       "                             guiEvent: simpleKeys(event)});\n",
       "\n",
       "    /* This prevents the web browser from automatically changing to\n",
       "     * the text insertion cursor when the button is pressed.  We want\n",
       "     * to control all of the cursor setting manually through the\n",
       "     * 'cursor' event from matplotlib */\n",
       "    event.preventDefault();\n",
       "    return false;\n",
       "}\n",
       "\n",
       "mpl.figure.prototype._key_event_extra = function(event, name) {\n",
       "    // Handle any extra behaviour associated with a key event\n",
       "}\n",
       "\n",
       "mpl.figure.prototype.key_event = function(event, name) {\n",
       "\n",
       "    // Prevent repeat events\n",
       "    if (name == 'key_press')\n",
       "    {\n",
       "        if (event.which === this._key)\n",
       "            return;\n",
       "        else\n",
       "            this._key = event.which;\n",
       "    }\n",
       "    if (name == 'key_release')\n",
       "        this._key = null;\n",
       "\n",
       "    var value = '';\n",
       "    if (event.ctrlKey && event.which != 17)\n",
       "        value += \"ctrl+\";\n",
       "    if (event.altKey && event.which != 18)\n",
       "        value += \"alt+\";\n",
       "    if (event.shiftKey && event.which != 16)\n",
       "        value += \"shift+\";\n",
       "\n",
       "    value += 'k';\n",
       "    value += event.which.toString();\n",
       "\n",
       "    this._key_event_extra(event, name);\n",
       "\n",
       "    this.send_message(name, {key: value,\n",
       "                             guiEvent: simpleKeys(event)});\n",
       "    return false;\n",
       "}\n",
       "\n",
       "mpl.figure.prototype.toolbar_button_onclick = function(name) {\n",
       "    if (name == 'download') {\n",
       "        this.handle_save(this, null);\n",
       "    } else {\n",
       "        this.send_message(\"toolbar_button\", {name: name});\n",
       "    }\n",
       "};\n",
       "\n",
       "mpl.figure.prototype.toolbar_button_onmouseover = function(tooltip) {\n",
       "    this.message.textContent = tooltip;\n",
       "};\n",
       "mpl.toolbar_items = [[\"Home\", \"Reset original view\", \"fa fa-home icon-home\", \"home\"], [\"Back\", \"Back to previous view\", \"fa fa-arrow-left icon-arrow-left\", \"back\"], [\"Forward\", \"Forward to next view\", \"fa fa-arrow-right icon-arrow-right\", \"forward\"], [\"\", \"\", \"\", \"\"], [\"Pan\", \"Pan axes with left mouse, zoom with right\", \"fa fa-arrows icon-move\", \"pan\"], [\"Zoom\", \"Zoom to rectangle\", \"fa fa-square-o icon-check-empty\", \"zoom\"], [\"\", \"\", \"\", \"\"], [\"Download\", \"Download plot\", \"fa fa-floppy-o icon-save\", \"download\"]];\n",
       "\n",
       "mpl.extensions = [\"eps\", \"jpeg\", \"pdf\", \"png\", \"ps\", \"raw\", \"svg\", \"tif\"];\n",
       "\n",
       "mpl.default_extension = \"png\";var comm_websocket_adapter = function(comm) {\n",
       "    // Create a \"websocket\"-like object which calls the given IPython comm\n",
       "    // object with the appropriate methods. Currently this is a non binary\n",
       "    // socket, so there is still some room for performance tuning.\n",
       "    var ws = {};\n",
       "\n",
       "    ws.close = function() {\n",
       "        comm.close()\n",
       "    };\n",
       "    ws.send = function(m) {\n",
       "        //console.log('sending', m);\n",
       "        comm.send(m);\n",
       "    };\n",
       "    // Register the callback with on_msg.\n",
       "    comm.on_msg(function(msg) {\n",
       "        //console.log('receiving', msg['content']['data'], msg);\n",
       "        // Pass the mpl event to the overridden (by mpl) onmessage function.\n",
       "        ws.onmessage(msg['content']['data'])\n",
       "    });\n",
       "    return ws;\n",
       "}\n",
       "\n",
       "mpl.mpl_figure_comm = function(comm, msg) {\n",
       "    // This is the function which gets called when the mpl process\n",
       "    // starts-up an IPython Comm through the \"matplotlib\" channel.\n",
       "\n",
       "    var id = msg.content.data.id;\n",
       "    // Get hold of the div created by the display call when the Comm\n",
       "    // socket was opened in Python.\n",
       "    var element = $(\"#\" + id);\n",
       "    var ws_proxy = comm_websocket_adapter(comm)\n",
       "\n",
       "    function ondownload(figure, format) {\n",
       "        window.open(figure.imageObj.src);\n",
       "    }\n",
       "\n",
       "    var fig = new mpl.figure(id, ws_proxy,\n",
       "                           ondownload,\n",
       "                           element.get(0));\n",
       "\n",
       "    // Call onopen now - mpl needs it, as it is assuming we've passed it a real\n",
       "    // web socket which is closed, not our websocket->open comm proxy.\n",
       "    ws_proxy.onopen();\n",
       "\n",
       "    fig.parent_element = element.get(0);\n",
       "    fig.cell_info = mpl.find_output_cell(\"<div id='\" + id + \"'></div>\");\n",
       "    if (!fig.cell_info) {\n",
       "        console.error(\"Failed to find cell for figure\", id, fig);\n",
       "        return;\n",
       "    }\n",
       "\n",
       "    var output_index = fig.cell_info[2]\n",
       "    var cell = fig.cell_info[0];\n",
       "\n",
       "};\n",
       "\n",
       "mpl.figure.prototype.handle_close = function(fig, msg) {\n",
       "    var width = fig.canvas.width/mpl.ratio\n",
       "    fig.root.unbind('remove')\n",
       "\n",
       "    // Update the output cell to use the data from the current canvas.\n",
       "    fig.push_to_output();\n",
       "    var dataURL = fig.canvas.toDataURL();\n",
       "    // Re-enable the keyboard manager in IPython - without this line, in FF,\n",
       "    // the notebook keyboard shortcuts fail.\n",
       "    IPython.keyboard_manager.enable()\n",
       "    $(fig.parent_element).html('<img src=\"' + dataURL + '\" width=\"' + width + '\">');\n",
       "    fig.close_ws(fig, msg);\n",
       "}\n",
       "\n",
       "mpl.figure.prototype.close_ws = function(fig, msg){\n",
       "    fig.send_message('closing', msg);\n",
       "    // fig.ws.close()\n",
       "}\n",
       "\n",
       "mpl.figure.prototype.push_to_output = function(remove_interactive) {\n",
       "    // Turn the data on the canvas into data in the output cell.\n",
       "    var width = this.canvas.width/mpl.ratio\n",
       "    var dataURL = this.canvas.toDataURL();\n",
       "    this.cell_info[1]['text/html'] = '<img src=\"' + dataURL + '\" width=\"' + width + '\">';\n",
       "}\n",
       "\n",
       "mpl.figure.prototype.updated_canvas_event = function() {\n",
       "    // Tell IPython that the notebook contents must change.\n",
       "    IPython.notebook.set_dirty(true);\n",
       "    this.send_message(\"ack\", {});\n",
       "    var fig = this;\n",
       "    // Wait a second, then push the new image to the DOM so\n",
       "    // that it is saved nicely (might be nice to debounce this).\n",
       "    setTimeout(function () { fig.push_to_output() }, 1000);\n",
       "}\n",
       "\n",
       "mpl.figure.prototype._init_toolbar = function() {\n",
       "    var fig = this;\n",
       "\n",
       "    var nav_element = $('<div/>')\n",
       "    nav_element.attr('style', 'width: 100%');\n",
       "    this.root.append(nav_element);\n",
       "\n",
       "    // Define a callback function for later on.\n",
       "    function toolbar_event(event) {\n",
       "        return fig.toolbar_button_onclick(event['data']);\n",
       "    }\n",
       "    function toolbar_mouse_event(event) {\n",
       "        return fig.toolbar_button_onmouseover(event['data']);\n",
       "    }\n",
       "\n",
       "    for(var toolbar_ind in mpl.toolbar_items){\n",
       "        var name = mpl.toolbar_items[toolbar_ind][0];\n",
       "        var tooltip = mpl.toolbar_items[toolbar_ind][1];\n",
       "        var image = mpl.toolbar_items[toolbar_ind][2];\n",
       "        var method_name = mpl.toolbar_items[toolbar_ind][3];\n",
       "\n",
       "        if (!name) { continue; };\n",
       "\n",
       "        var button = $('<button class=\"btn btn-default\" href=\"#\" title=\"' + name + '\"><i class=\"fa ' + image + ' fa-lg\"></i></button>');\n",
       "        button.click(method_name, toolbar_event);\n",
       "        button.mouseover(tooltip, toolbar_mouse_event);\n",
       "        nav_element.append(button);\n",
       "    }\n",
       "\n",
       "    // Add the status bar.\n",
       "    var status_bar = $('<span class=\"mpl-message\" style=\"text-align:right; float: right;\"/>');\n",
       "    nav_element.append(status_bar);\n",
       "    this.message = status_bar[0];\n",
       "\n",
       "    // Add the close button to the window.\n",
       "    var buttongrp = $('<div class=\"btn-group inline pull-right\"></div>');\n",
       "    var button = $('<button class=\"btn btn-mini btn-primary\" href=\"#\" title=\"Stop Interaction\"><i class=\"fa fa-power-off icon-remove icon-large\"></i></button>');\n",
       "    button.click(function (evt) { fig.handle_close(fig, {}); } );\n",
       "    button.mouseover('Stop Interaction', toolbar_mouse_event);\n",
       "    buttongrp.append(button);\n",
       "    var titlebar = this.root.find($('.ui-dialog-titlebar'));\n",
       "    titlebar.prepend(buttongrp);\n",
       "}\n",
       "\n",
       "mpl.figure.prototype._root_extra_style = function(el){\n",
       "    var fig = this\n",
       "    el.on(\"remove\", function(){\n",
       "\tfig.close_ws(fig, {});\n",
       "    });\n",
       "}\n",
       "\n",
       "mpl.figure.prototype._canvas_extra_style = function(el){\n",
       "    // this is important to make the div 'focusable\n",
       "    el.attr('tabindex', 0)\n",
       "    // reach out to IPython and tell the keyboard manager to turn it's self\n",
       "    // off when our div gets focus\n",
       "\n",
       "    // location in version 3\n",
       "    if (IPython.notebook.keyboard_manager) {\n",
       "        IPython.notebook.keyboard_manager.register_events(el);\n",
       "    }\n",
       "    else {\n",
       "        // location in version 2\n",
       "        IPython.keyboard_manager.register_events(el);\n",
       "    }\n",
       "\n",
       "}\n",
       "\n",
       "mpl.figure.prototype._key_event_extra = function(event, name) {\n",
       "    var manager = IPython.notebook.keyboard_manager;\n",
       "    if (!manager)\n",
       "        manager = IPython.keyboard_manager;\n",
       "\n",
       "    // Check for shift+enter\n",
       "    if (event.shiftKey && event.which == 13) {\n",
       "        this.canvas_div.blur();\n",
       "        event.shiftKey = false;\n",
       "        // Send a \"J\" for go to next cell\n",
       "        event.which = 74;\n",
       "        event.keyCode = 74;\n",
       "        manager.command_mode();\n",
       "        manager.handle_keydown(event);\n",
       "    }\n",
       "}\n",
       "\n",
       "mpl.figure.prototype.handle_save = function(fig, msg) {\n",
       "    fig.ondownload(fig, null);\n",
       "}\n",
       "\n",
       "\n",
       "mpl.find_output_cell = function(html_output) {\n",
       "    // Return the cell and output element which can be found *uniquely* in the notebook.\n",
       "    // Note - this is a bit hacky, but it is done because the \"notebook_saving.Notebook\"\n",
       "    // IPython event is triggered only after the cells have been serialised, which for\n",
       "    // our purposes (turning an active figure into a static one), is too late.\n",
       "    var cells = IPython.notebook.get_cells();\n",
       "    var ncells = cells.length;\n",
       "    for (var i=0; i<ncells; i++) {\n",
       "        var cell = cells[i];\n",
       "        if (cell.cell_type === 'code'){\n",
       "            for (var j=0; j<cell.output_area.outputs.length; j++) {\n",
       "                var data = cell.output_area.outputs[j];\n",
       "                if (data.data) {\n",
       "                    // IPython >= 3 moved mimebundle to data attribute of output\n",
       "                    data = data.data;\n",
       "                }\n",
       "                if (data['text/html'] == html_output) {\n",
       "                    return [cell, data, j];\n",
       "                }\n",
       "            }\n",
       "        }\n",
       "    }\n",
       "}\n",
       "\n",
       "// Register the function which deals with the matplotlib target/channel.\n",
       "// The kernel may be null if the page has been refreshed.\n",
       "if (IPython.notebook.kernel != null) {\n",
       "    IPython.notebook.kernel.comm_manager.register_target('matplotlib', mpl.mpl_figure_comm);\n",
       "}\n"
      ],
      "text/plain": [
       "<IPython.core.display.Javascript object>"
      ]
     },
     "metadata": {},
     "output_type": "display_data"
    },
    {
     "data": {
      "text/html": [
       "<img src=\"data:image/png;base64,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\" width=\"640\">"
      ],
      "text/plain": [
       "<IPython.core.display.HTML object>"
      ]
     },
     "metadata": {},
     "output_type": "display_data"
    }
   ],
   "source": [
    "df = pd.DataFrame(clf.cv_results_)\n",
    "l1_df = df[df['param_clf__penalty'] == 'l1']\n",
    "l2_df = df[df['param_clf__penalty'] == 'l2']\n",
    "fig, ax = plt.subplots()\n",
    "ax.plot(np.array(l1_df['param_clf__C'], dtype=float), np.array(l1_df['mean_test_score'], dtype=float), label='l1')\n",
    "ax.plot(np.array(l2_df['param_clf__C'], dtype=float), np.array(l2_df['mean_test_score'], dtype=float), label='l2')\n",
    "leg = plt.legend(loc='best')"
   ]
  },
  {
   "cell_type": "markdown",
   "metadata": {
    "colab_type": "text",
    "id": "IQraNf0M25p5"
   },
   "source": [
    "Проанализируйте полученные графики. Чему равны найденные оптимальные значения параметров `C` и `penalty`?"
   ]
  },
  {
   "cell_type": "markdown",
   "metadata": {
    "colab_type": "text",
    "id": "uIX7uVYk25p9"
   },
   "source": [
    "Используя найденные оптимальные значения `C` и `penalty`, обучите логистическую регрессию на обучающей выборке (train) и вычислите вероятности принадлежности к классам для тестовой (test)  выборки (`best_lr_clf.predict_proba`)."
   ]
  },
  {
   "cell_type": "code",
   "execution_count": 203,
   "metadata": {
    "colab": {
     "autoexec": {
      "startup": false,
      "wait_interval": 0
     }
    },
    "colab_type": "code",
    "id": "1rDNazlC25p9"
   },
   "outputs": [],
   "source": [
    "best_lr_clf = Pipeline([\n",
    "        ('scale', StandardScaler()),\n",
    "        ('clf', LogisticRegression(\n",
    "            C=clf.best_params_['clf__C'], \n",
    "            penalty=clf.best_params_['clf__penalty'], \n",
    "            solver='saga', \n",
    "            multi_class='multinomial',\n",
    "            max_iter=10000))])\n",
    "best_lr_clf.fit(train_feature_matrix, train_labels)\n",
    "proba = best_lr_clf.predict_proba(test_feature_matrix)"
   ]
  },
  {
   "cell_type": "markdown",
   "metadata": {
    "colab_type": "text",
    "id": "Ck7T2dGQ25p_"
   },
   "source": [
    "Для полученной матрицы вычислите усредненные по всем объектам из тестовой выборки значения вероятностей принадлежности к классам. Сравните ее оценкой вероятности принадлежности к классу на основе частот меток классов в обучающей выборке."
   ]
  },
  {
   "cell_type": "code",
   "execution_count": 204,
   "metadata": {
    "colab": {
     "autoexec": {
      "startup": false,
      "wait_interval": 0
     }
    },
    "colab_type": "code",
    "id": "JOf0BNix25qA"
   },
   "outputs": [
    {
     "data": {
      "text/plain": [
       "array([0.37298517, 0.48763069, 0.06192215, 0.00585693, 0.01621917,\n",
       "       0.02747933, 0.02790657])"
      ]
     },
     "execution_count": 204,
     "metadata": {},
     "output_type": "execute_result"
    }
   ],
   "source": [
    "proba.mean(0)"
   ]
  },
  {
   "cell_type": "code",
   "execution_count": 205,
   "metadata": {},
   "outputs": [
    {
     "data": {
      "text/plain": [
       "[0.3715625, 0.485625, 0.05828125, 0.00515625, 0.0171875, 0.028125, 0.0340625]"
      ]
     },
     "execution_count": 205,
     "metadata": {},
     "output_type": "execute_result"
    }
   ],
   "source": [
    "train_proba = []\n",
    "for label in np.unique(train_labels):\n",
    "    train_proba.append(sum(train_labels == label) / len(train_labels))\n",
    "train_proba"
   ]
  },
  {
   "cell_type": "markdown",
   "metadata": {
    "colab_type": "text",
    "id": "VYogShkD25qD"
   },
   "source": [
    "#### 2.3 Многоклассовая классификация: kNN (30%)."
   ]
  },
  {
   "cell_type": "markdown",
   "metadata": {
    "colab_type": "text",
    "id": "BHVNCaJ325qD"
   },
   "source": [
    "Вспомним первое занятие. Обучите на том же датасете `KNeighborsClassifier` из `sklearn`."
   ]
  },
  {
   "cell_type": "code",
   "execution_count": 209,
   "metadata": {
    "colab": {
     "autoexec": {
      "startup": false,
      "wait_interval": 0
     }
    },
    "colab_type": "code",
    "id": "o4CMnnOY25qD"
   },
   "outputs": [
    {
     "name": "stdout",
     "output_type": "stream",
     "text": [
      "uniform weights accuracy = 0.7375\n",
      "distance weights accuracy = 0.758125\n"
     ]
    }
   ],
   "source": [
    "from sklearn.neighbors import KNeighborsClassifier\n",
    "\n",
    "knn_clf = KNeighborsClassifier(weights='uniform')\n",
    "knn_clf.fit(train_feature_matrix, train_labels)\n",
    "y_pred = knn_clf.predict(test_feature_matrix)\n",
    "accuracy = accuracy_score(y_true=test_labels, y_pred=y_pred)\n",
    "print(f\"uniform weights accuracy = {accuracy}\")\n",
    "\n",
    "knn_clf = KNeighborsClassifier(weights='distance')\n",
    "knn_clf.fit(train_feature_matrix, train_labels)\n",
    "y_pred = knn_clf.predict(test_feature_matrix)\n",
    "accuracy = accuracy_score(y_true=test_labels, y_pred=y_pred)\n",
    "print(f\"distance weights accuracy = {accuracy}\")\n",
    "\n",
    "# Accuracy is better when using distance weighed algorithm."
   ]
  },
  {
   "cell_type": "markdown",
   "metadata": {
    "colab_type": "text",
    "id": "Yl_foM3u25qF"
   },
   "source": [
    "Попробуйте использовать различные стратегии вычисления весов: `[‘uniform’, ‘distance’]`. Выберите одно из них самостоятельно. Чем обоснован Ваш выбор?"
   ]
  },
  {
   "cell_type": "code",
   "execution_count": 210,
   "metadata": {},
   "outputs": [],
   "source": [
    "knn_clf = KNeighborsClassifier(weights='distance')"
   ]
  },
  {
   "cell_type": "markdown",
   "metadata": {
    "colab_type": "text",
    "id": "8WzoRJZd25qF"
   },
   "source": [
    "Переберите по сетке от `1` до `10` параметр числа соседей. Покажите на графике, как менялись значения критерия качества `accuracy` при изменении числа соседей."
   ]
  },
  {
   "cell_type": "code",
   "execution_count": 212,
   "metadata": {
    "colab": {
     "autoexec": {
      "startup": false,
      "wait_interval": 0
     }
    },
    "colab_type": "code",
    "id": "4lMSy-6f25qG"
   },
   "outputs": [
    {
     "data": {
      "text/plain": [
       "GridSearchCV(cv=5, error_score='raise-deprecating',\n",
       "             estimator=KNeighborsClassifier(algorithm='auto', leaf_size=30,\n",
       "                                            metric='minkowski',\n",
       "                                            metric_params=None, n_jobs=None,\n",
       "                                            n_neighbors=5, p=2,\n",
       "                                            weights='distance'),\n",
       "             iid='warn', n_jobs=None,\n",
       "             param_grid={'n_neighbors': array([ 1,  2,  3,  4,  5,  6,  7,  8,  9, 10])},\n",
       "             pre_dispatch='2*n_jobs', refit=True, return_train_score=False,\n",
       "             scoring='accuracy', verbose=0)"
      ]
     },
     "execution_count": 212,
     "metadata": {},
     "output_type": "execute_result"
    }
   ],
   "source": [
    "parameters = {'n_neighbors': np.arange(1, 11)}\n",
    "\n",
    "clf = GridSearchCV(knn_clf, parameters, cv=5, scoring='accuracy')\n",
    "clf.fit(train_feature_matrix, train_labels)"
   ]
  },
  {
   "cell_type": "code",
   "execution_count": 213,
   "metadata": {},
   "outputs": [
    {
     "data": {
      "text/plain": [
       "{'n_neighbors': 6}"
      ]
     },
     "execution_count": 213,
     "metadata": {},
     "output_type": "execute_result"
    }
   ],
   "source": [
    "clf.best_params_"
   ]
  },
  {
   "cell_type": "code",
   "execution_count": 215,
   "metadata": {},
   "outputs": [
    {
     "data": {
      "application/javascript": [
       "/* Put everything inside the global mpl namespace */\n",
       "window.mpl = {};\n",
       "\n",
       "\n",
       "mpl.get_websocket_type = function() {\n",
       "    if (typeof(WebSocket) !== 'undefined') {\n",
       "        return WebSocket;\n",
       "    } else if (typeof(MozWebSocket) !== 'undefined') {\n",
       "        return MozWebSocket;\n",
       "    } else {\n",
       "        alert('Your browser does not have WebSocket support.' +\n",
       "              'Please try Chrome, Safari or Firefox ≥ 6. ' +\n",
       "              'Firefox 4 and 5 are also supported but you ' +\n",
       "              'have to enable WebSockets in about:config.');\n",
       "    };\n",
       "}\n",
       "\n",
       "mpl.figure = function(figure_id, websocket, ondownload, parent_element) {\n",
       "    this.id = figure_id;\n",
       "\n",
       "    this.ws = websocket;\n",
       "\n",
       "    this.supports_binary = (this.ws.binaryType != undefined);\n",
       "\n",
       "    if (!this.supports_binary) {\n",
       "        var warnings = document.getElementById(\"mpl-warnings\");\n",
       "        if (warnings) {\n",
       "            warnings.style.display = 'block';\n",
       "            warnings.textContent = (\n",
       "                \"This browser does not support binary websocket messages. \" +\n",
       "                    \"Performance may be slow.\");\n",
       "        }\n",
       "    }\n",
       "\n",
       "    this.imageObj = new Image();\n",
       "\n",
       "    this.context = undefined;\n",
       "    this.message = undefined;\n",
       "    this.canvas = undefined;\n",
       "    this.rubberband_canvas = undefined;\n",
       "    this.rubberband_context = undefined;\n",
       "    this.format_dropdown = undefined;\n",
       "\n",
       "    this.image_mode = 'full';\n",
       "\n",
       "    this.root = $('<div/>');\n",
       "    this._root_extra_style(this.root)\n",
       "    this.root.attr('style', 'display: inline-block');\n",
       "\n",
       "    $(parent_element).append(this.root);\n",
       "\n",
       "    this._init_header(this);\n",
       "    this._init_canvas(this);\n",
       "    this._init_toolbar(this);\n",
       "\n",
       "    var fig = this;\n",
       "\n",
       "    this.waiting = false;\n",
       "\n",
       "    this.ws.onopen =  function () {\n",
       "            fig.send_message(\"supports_binary\", {value: fig.supports_binary});\n",
       "            fig.send_message(\"send_image_mode\", {});\n",
       "            if (mpl.ratio != 1) {\n",
       "                fig.send_message(\"set_dpi_ratio\", {'dpi_ratio': mpl.ratio});\n",
       "            }\n",
       "            fig.send_message(\"refresh\", {});\n",
       "        }\n",
       "\n",
       "    this.imageObj.onload = function() {\n",
       "            if (fig.image_mode == 'full') {\n",
       "                // Full images could contain transparency (where diff images\n",
       "                // almost always do), so we need to clear the canvas so that\n",
       "                // there is no ghosting.\n",
       "                fig.context.clearRect(0, 0, fig.canvas.width, fig.canvas.height);\n",
       "            }\n",
       "            fig.context.drawImage(fig.imageObj, 0, 0);\n",
       "        };\n",
       "\n",
       "    this.imageObj.onunload = function() {\n",
       "        fig.ws.close();\n",
       "    }\n",
       "\n",
       "    this.ws.onmessage = this._make_on_message_function(this);\n",
       "\n",
       "    this.ondownload = ondownload;\n",
       "}\n",
       "\n",
       "mpl.figure.prototype._init_header = function() {\n",
       "    var titlebar = $(\n",
       "        '<div class=\"ui-dialog-titlebar ui-widget-header ui-corner-all ' +\n",
       "        'ui-helper-clearfix\"/>');\n",
       "    var titletext = $(\n",
       "        '<div class=\"ui-dialog-title\" style=\"width: 100%; ' +\n",
       "        'text-align: center; padding: 3px;\"/>');\n",
       "    titlebar.append(titletext)\n",
       "    this.root.append(titlebar);\n",
       "    this.header = titletext[0];\n",
       "}\n",
       "\n",
       "\n",
       "\n",
       "mpl.figure.prototype._canvas_extra_style = function(canvas_div) {\n",
       "\n",
       "}\n",
       "\n",
       "\n",
       "mpl.figure.prototype._root_extra_style = function(canvas_div) {\n",
       "\n",
       "}\n",
       "\n",
       "mpl.figure.prototype._init_canvas = function() {\n",
       "    var fig = this;\n",
       "\n",
       "    var canvas_div = $('<div/>');\n",
       "\n",
       "    canvas_div.attr('style', 'position: relative; clear: both; outline: 0');\n",
       "\n",
       "    function canvas_keyboard_event(event) {\n",
       "        return fig.key_event(event, event['data']);\n",
       "    }\n",
       "\n",
       "    canvas_div.keydown('key_press', canvas_keyboard_event);\n",
       "    canvas_div.keyup('key_release', canvas_keyboard_event);\n",
       "    this.canvas_div = canvas_div\n",
       "    this._canvas_extra_style(canvas_div)\n",
       "    this.root.append(canvas_div);\n",
       "\n",
       "    var canvas = $('<canvas/>');\n",
       "    canvas.addClass('mpl-canvas');\n",
       "    canvas.attr('style', \"left: 0; top: 0; z-index: 0; outline: 0\")\n",
       "\n",
       "    this.canvas = canvas[0];\n",
       "    this.context = canvas[0].getContext(\"2d\");\n",
       "\n",
       "    var backingStore = this.context.backingStorePixelRatio ||\n",
       "\tthis.context.webkitBackingStorePixelRatio ||\n",
       "\tthis.context.mozBackingStorePixelRatio ||\n",
       "\tthis.context.msBackingStorePixelRatio ||\n",
       "\tthis.context.oBackingStorePixelRatio ||\n",
       "\tthis.context.backingStorePixelRatio || 1;\n",
       "\n",
       "    mpl.ratio = (window.devicePixelRatio || 1) / backingStore;\n",
       "\n",
       "    var rubberband = $('<canvas/>');\n",
       "    rubberband.attr('style', \"position: absolute; left: 0; top: 0; z-index: 1;\")\n",
       "\n",
       "    var pass_mouse_events = true;\n",
       "\n",
       "    canvas_div.resizable({\n",
       "        start: function(event, ui) {\n",
       "            pass_mouse_events = false;\n",
       "        },\n",
       "        resize: function(event, ui) {\n",
       "            fig.request_resize(ui.size.width, ui.size.height);\n",
       "        },\n",
       "        stop: function(event, ui) {\n",
       "            pass_mouse_events = true;\n",
       "            fig.request_resize(ui.size.width, ui.size.height);\n",
       "        },\n",
       "    });\n",
       "\n",
       "    function mouse_event_fn(event) {\n",
       "        if (pass_mouse_events)\n",
       "            return fig.mouse_event(event, event['data']);\n",
       "    }\n",
       "\n",
       "    rubberband.mousedown('button_press', mouse_event_fn);\n",
       "    rubberband.mouseup('button_release', mouse_event_fn);\n",
       "    // Throttle sequential mouse events to 1 every 20ms.\n",
       "    rubberband.mousemove('motion_notify', mouse_event_fn);\n",
       "\n",
       "    rubberband.mouseenter('figure_enter', mouse_event_fn);\n",
       "    rubberband.mouseleave('figure_leave', mouse_event_fn);\n",
       "\n",
       "    canvas_div.on(\"wheel\", function (event) {\n",
       "        event = event.originalEvent;\n",
       "        event['data'] = 'scroll'\n",
       "        if (event.deltaY < 0) {\n",
       "            event.step = 1;\n",
       "        } else {\n",
       "            event.step = -1;\n",
       "        }\n",
       "        mouse_event_fn(event);\n",
       "    });\n",
       "\n",
       "    canvas_div.append(canvas);\n",
       "    canvas_div.append(rubberband);\n",
       "\n",
       "    this.rubberband = rubberband;\n",
       "    this.rubberband_canvas = rubberband[0];\n",
       "    this.rubberband_context = rubberband[0].getContext(\"2d\");\n",
       "    this.rubberband_context.strokeStyle = \"#000000\";\n",
       "\n",
       "    this._resize_canvas = function(width, height) {\n",
       "        // Keep the size of the canvas, canvas container, and rubber band\n",
       "        // canvas in synch.\n",
       "        canvas_div.css('width', width)\n",
       "        canvas_div.css('height', height)\n",
       "\n",
       "        canvas.attr('width', width * mpl.ratio);\n",
       "        canvas.attr('height', height * mpl.ratio);\n",
       "        canvas.attr('style', 'width: ' + width + 'px; height: ' + height + 'px;');\n",
       "\n",
       "        rubberband.attr('width', width);\n",
       "        rubberband.attr('height', height);\n",
       "    }\n",
       "\n",
       "    // Set the figure to an initial 600x600px, this will subsequently be updated\n",
       "    // upon first draw.\n",
       "    this._resize_canvas(600, 600);\n",
       "\n",
       "    // Disable right mouse context menu.\n",
       "    $(this.rubberband_canvas).bind(\"contextmenu\",function(e){\n",
       "        return false;\n",
       "    });\n",
       "\n",
       "    function set_focus () {\n",
       "        canvas.focus();\n",
       "        canvas_div.focus();\n",
       "    }\n",
       "\n",
       "    window.setTimeout(set_focus, 100);\n",
       "}\n",
       "\n",
       "mpl.figure.prototype._init_toolbar = function() {\n",
       "    var fig = this;\n",
       "\n",
       "    var nav_element = $('<div/>')\n",
       "    nav_element.attr('style', 'width: 100%');\n",
       "    this.root.append(nav_element);\n",
       "\n",
       "    // Define a callback function for later on.\n",
       "    function toolbar_event(event) {\n",
       "        return fig.toolbar_button_onclick(event['data']);\n",
       "    }\n",
       "    function toolbar_mouse_event(event) {\n",
       "        return fig.toolbar_button_onmouseover(event['data']);\n",
       "    }\n",
       "\n",
       "    for(var toolbar_ind in mpl.toolbar_items) {\n",
       "        var name = mpl.toolbar_items[toolbar_ind][0];\n",
       "        var tooltip = mpl.toolbar_items[toolbar_ind][1];\n",
       "        var image = mpl.toolbar_items[toolbar_ind][2];\n",
       "        var method_name = mpl.toolbar_items[toolbar_ind][3];\n",
       "\n",
       "        if (!name) {\n",
       "            // put a spacer in here.\n",
       "            continue;\n",
       "        }\n",
       "        var button = $('<button/>');\n",
       "        button.addClass('ui-button ui-widget ui-state-default ui-corner-all ' +\n",
       "                        'ui-button-icon-only');\n",
       "        button.attr('role', 'button');\n",
       "        button.attr('aria-disabled', 'false');\n",
       "        button.click(method_name, toolbar_event);\n",
       "        button.mouseover(tooltip, toolbar_mouse_event);\n",
       "\n",
       "        var icon_img = $('<span/>');\n",
       "        icon_img.addClass('ui-button-icon-primary ui-icon');\n",
       "        icon_img.addClass(image);\n",
       "        icon_img.addClass('ui-corner-all');\n",
       "\n",
       "        var tooltip_span = $('<span/>');\n",
       "        tooltip_span.addClass('ui-button-text');\n",
       "        tooltip_span.html(tooltip);\n",
       "\n",
       "        button.append(icon_img);\n",
       "        button.append(tooltip_span);\n",
       "\n",
       "        nav_element.append(button);\n",
       "    }\n",
       "\n",
       "    var fmt_picker_span = $('<span/>');\n",
       "\n",
       "    var fmt_picker = $('<select/>');\n",
       "    fmt_picker.addClass('mpl-toolbar-option ui-widget ui-widget-content');\n",
       "    fmt_picker_span.append(fmt_picker);\n",
       "    nav_element.append(fmt_picker_span);\n",
       "    this.format_dropdown = fmt_picker[0];\n",
       "\n",
       "    for (var ind in mpl.extensions) {\n",
       "        var fmt = mpl.extensions[ind];\n",
       "        var option = $(\n",
       "            '<option/>', {selected: fmt === mpl.default_extension}).html(fmt);\n",
       "        fmt_picker.append(option)\n",
       "    }\n",
       "\n",
       "    // Add hover states to the ui-buttons\n",
       "    $( \".ui-button\" ).hover(\n",
       "        function() { $(this).addClass(\"ui-state-hover\");},\n",
       "        function() { $(this).removeClass(\"ui-state-hover\");}\n",
       "    );\n",
       "\n",
       "    var status_bar = $('<span class=\"mpl-message\"/>');\n",
       "    nav_element.append(status_bar);\n",
       "    this.message = status_bar[0];\n",
       "}\n",
       "\n",
       "mpl.figure.prototype.request_resize = function(x_pixels, y_pixels) {\n",
       "    // Request matplotlib to resize the figure. Matplotlib will then trigger a resize in the client,\n",
       "    // which will in turn request a refresh of the image.\n",
       "    this.send_message('resize', {'width': x_pixels, 'height': y_pixels});\n",
       "}\n",
       "\n",
       "mpl.figure.prototype.send_message = function(type, properties) {\n",
       "    properties['type'] = type;\n",
       "    properties['figure_id'] = this.id;\n",
       "    this.ws.send(JSON.stringify(properties));\n",
       "}\n",
       "\n",
       "mpl.figure.prototype.send_draw_message = function() {\n",
       "    if (!this.waiting) {\n",
       "        this.waiting = true;\n",
       "        this.ws.send(JSON.stringify({type: \"draw\", figure_id: this.id}));\n",
       "    }\n",
       "}\n",
       "\n",
       "\n",
       "mpl.figure.prototype.handle_save = function(fig, msg) {\n",
       "    var format_dropdown = fig.format_dropdown;\n",
       "    var format = format_dropdown.options[format_dropdown.selectedIndex].value;\n",
       "    fig.ondownload(fig, format);\n",
       "}\n",
       "\n",
       "\n",
       "mpl.figure.prototype.handle_resize = function(fig, msg) {\n",
       "    var size = msg['size'];\n",
       "    if (size[0] != fig.canvas.width || size[1] != fig.canvas.height) {\n",
       "        fig._resize_canvas(size[0], size[1]);\n",
       "        fig.send_message(\"refresh\", {});\n",
       "    };\n",
       "}\n",
       "\n",
       "mpl.figure.prototype.handle_rubberband = function(fig, msg) {\n",
       "    var x0 = msg['x0'] / mpl.ratio;\n",
       "    var y0 = (fig.canvas.height - msg['y0']) / mpl.ratio;\n",
       "    var x1 = msg['x1'] / mpl.ratio;\n",
       "    var y1 = (fig.canvas.height - msg['y1']) / mpl.ratio;\n",
       "    x0 = Math.floor(x0) + 0.5;\n",
       "    y0 = Math.floor(y0) + 0.5;\n",
       "    x1 = Math.floor(x1) + 0.5;\n",
       "    y1 = Math.floor(y1) + 0.5;\n",
       "    var min_x = Math.min(x0, x1);\n",
       "    var min_y = Math.min(y0, y1);\n",
       "    var width = Math.abs(x1 - x0);\n",
       "    var height = Math.abs(y1 - y0);\n",
       "\n",
       "    fig.rubberband_context.clearRect(\n",
       "        0, 0, fig.canvas.width, fig.canvas.height);\n",
       "\n",
       "    fig.rubberband_context.strokeRect(min_x, min_y, width, height);\n",
       "}\n",
       "\n",
       "mpl.figure.prototype.handle_figure_label = function(fig, msg) {\n",
       "    // Updates the figure title.\n",
       "    fig.header.textContent = msg['label'];\n",
       "}\n",
       "\n",
       "mpl.figure.prototype.handle_cursor = function(fig, msg) {\n",
       "    var cursor = msg['cursor'];\n",
       "    switch(cursor)\n",
       "    {\n",
       "    case 0:\n",
       "        cursor = 'pointer';\n",
       "        break;\n",
       "    case 1:\n",
       "        cursor = 'default';\n",
       "        break;\n",
       "    case 2:\n",
       "        cursor = 'crosshair';\n",
       "        break;\n",
       "    case 3:\n",
       "        cursor = 'move';\n",
       "        break;\n",
       "    }\n",
       "    fig.rubberband_canvas.style.cursor = cursor;\n",
       "}\n",
       "\n",
       "mpl.figure.prototype.handle_message = function(fig, msg) {\n",
       "    fig.message.textContent = msg['message'];\n",
       "}\n",
       "\n",
       "mpl.figure.prototype.handle_draw = function(fig, msg) {\n",
       "    // Request the server to send over a new figure.\n",
       "    fig.send_draw_message();\n",
       "}\n",
       "\n",
       "mpl.figure.prototype.handle_image_mode = function(fig, msg) {\n",
       "    fig.image_mode = msg['mode'];\n",
       "}\n",
       "\n",
       "mpl.figure.prototype.updated_canvas_event = function() {\n",
       "    // Called whenever the canvas gets updated.\n",
       "    this.send_message(\"ack\", {});\n",
       "}\n",
       "\n",
       "// A function to construct a web socket function for onmessage handling.\n",
       "// Called in the figure constructor.\n",
       "mpl.figure.prototype._make_on_message_function = function(fig) {\n",
       "    return function socket_on_message(evt) {\n",
       "        if (evt.data instanceof Blob) {\n",
       "            /* FIXME: We get \"Resource interpreted as Image but\n",
       "             * transferred with MIME type text/plain:\" errors on\n",
       "             * Chrome.  But how to set the MIME type?  It doesn't seem\n",
       "             * to be part of the websocket stream */\n",
       "            evt.data.type = \"image/png\";\n",
       "\n",
       "            /* Free the memory for the previous frames */\n",
       "            if (fig.imageObj.src) {\n",
       "                (window.URL || window.webkitURL).revokeObjectURL(\n",
       "                    fig.imageObj.src);\n",
       "            }\n",
       "\n",
       "            fig.imageObj.src = (window.URL || window.webkitURL).createObjectURL(\n",
       "                evt.data);\n",
       "            fig.updated_canvas_event();\n",
       "            fig.waiting = false;\n",
       "            return;\n",
       "        }\n",
       "        else if (typeof evt.data === 'string' && evt.data.slice(0, 21) == \"data:image/png;base64\") {\n",
       "            fig.imageObj.src = evt.data;\n",
       "            fig.updated_canvas_event();\n",
       "            fig.waiting = false;\n",
       "            return;\n",
       "        }\n",
       "\n",
       "        var msg = JSON.parse(evt.data);\n",
       "        var msg_type = msg['type'];\n",
       "\n",
       "        // Call the  \"handle_{type}\" callback, which takes\n",
       "        // the figure and JSON message as its only arguments.\n",
       "        try {\n",
       "            var callback = fig[\"handle_\" + msg_type];\n",
       "        } catch (e) {\n",
       "            console.log(\"No handler for the '\" + msg_type + \"' message type: \", msg);\n",
       "            return;\n",
       "        }\n",
       "\n",
       "        if (callback) {\n",
       "            try {\n",
       "                // console.log(\"Handling '\" + msg_type + \"' message: \", msg);\n",
       "                callback(fig, msg);\n",
       "            } catch (e) {\n",
       "                console.log(\"Exception inside the 'handler_\" + msg_type + \"' callback:\", e, e.stack, msg);\n",
       "            }\n",
       "        }\n",
       "    };\n",
       "}\n",
       "\n",
       "// from http://stackoverflow.com/questions/1114465/getting-mouse-location-in-canvas\n",
       "mpl.findpos = function(e) {\n",
       "    //this section is from http://www.quirksmode.org/js/events_properties.html\n",
       "    var targ;\n",
       "    if (!e)\n",
       "        e = window.event;\n",
       "    if (e.target)\n",
       "        targ = e.target;\n",
       "    else if (e.srcElement)\n",
       "        targ = e.srcElement;\n",
       "    if (targ.nodeType == 3) // defeat Safari bug\n",
       "        targ = targ.parentNode;\n",
       "\n",
       "    // jQuery normalizes the pageX and pageY\n",
       "    // pageX,Y are the mouse positions relative to the document\n",
       "    // offset() returns the position of the element relative to the document\n",
       "    var x = e.pageX - $(targ).offset().left;\n",
       "    var y = e.pageY - $(targ).offset().top;\n",
       "\n",
       "    return {\"x\": x, \"y\": y};\n",
       "};\n",
       "\n",
       "/*\n",
       " * return a copy of an object with only non-object keys\n",
       " * we need this to avoid circular references\n",
       " * http://stackoverflow.com/a/24161582/3208463\n",
       " */\n",
       "function simpleKeys (original) {\n",
       "  return Object.keys(original).reduce(function (obj, key) {\n",
       "    if (typeof original[key] !== 'object')\n",
       "        obj[key] = original[key]\n",
       "    return obj;\n",
       "  }, {});\n",
       "}\n",
       "\n",
       "mpl.figure.prototype.mouse_event = function(event, name) {\n",
       "    var canvas_pos = mpl.findpos(event)\n",
       "\n",
       "    if (name === 'button_press')\n",
       "    {\n",
       "        this.canvas.focus();\n",
       "        this.canvas_div.focus();\n",
       "    }\n",
       "\n",
       "    var x = canvas_pos.x * mpl.ratio;\n",
       "    var y = canvas_pos.y * mpl.ratio;\n",
       "\n",
       "    this.send_message(name, {x: x, y: y, button: event.button,\n",
       "                             step: event.step,\n",
       "                             guiEvent: simpleKeys(event)});\n",
       "\n",
       "    /* This prevents the web browser from automatically changing to\n",
       "     * the text insertion cursor when the button is pressed.  We want\n",
       "     * to control all of the cursor setting manually through the\n",
       "     * 'cursor' event from matplotlib */\n",
       "    event.preventDefault();\n",
       "    return false;\n",
       "}\n",
       "\n",
       "mpl.figure.prototype._key_event_extra = function(event, name) {\n",
       "    // Handle any extra behaviour associated with a key event\n",
       "}\n",
       "\n",
       "mpl.figure.prototype.key_event = function(event, name) {\n",
       "\n",
       "    // Prevent repeat events\n",
       "    if (name == 'key_press')\n",
       "    {\n",
       "        if (event.which === this._key)\n",
       "            return;\n",
       "        else\n",
       "            this._key = event.which;\n",
       "    }\n",
       "    if (name == 'key_release')\n",
       "        this._key = null;\n",
       "\n",
       "    var value = '';\n",
       "    if (event.ctrlKey && event.which != 17)\n",
       "        value += \"ctrl+\";\n",
       "    if (event.altKey && event.which != 18)\n",
       "        value += \"alt+\";\n",
       "    if (event.shiftKey && event.which != 16)\n",
       "        value += \"shift+\";\n",
       "\n",
       "    value += 'k';\n",
       "    value += event.which.toString();\n",
       "\n",
       "    this._key_event_extra(event, name);\n",
       "\n",
       "    this.send_message(name, {key: value,\n",
       "                             guiEvent: simpleKeys(event)});\n",
       "    return false;\n",
       "}\n",
       "\n",
       "mpl.figure.prototype.toolbar_button_onclick = function(name) {\n",
       "    if (name == 'download') {\n",
       "        this.handle_save(this, null);\n",
       "    } else {\n",
       "        this.send_message(\"toolbar_button\", {name: name});\n",
       "    }\n",
       "};\n",
       "\n",
       "mpl.figure.prototype.toolbar_button_onmouseover = function(tooltip) {\n",
       "    this.message.textContent = tooltip;\n",
       "};\n",
       "mpl.toolbar_items = [[\"Home\", \"Reset original view\", \"fa fa-home icon-home\", \"home\"], [\"Back\", \"Back to previous view\", \"fa fa-arrow-left icon-arrow-left\", \"back\"], [\"Forward\", \"Forward to next view\", \"fa fa-arrow-right icon-arrow-right\", \"forward\"], [\"\", \"\", \"\", \"\"], [\"Pan\", \"Pan axes with left mouse, zoom with right\", \"fa fa-arrows icon-move\", \"pan\"], [\"Zoom\", \"Zoom to rectangle\", \"fa fa-square-o icon-check-empty\", \"zoom\"], [\"\", \"\", \"\", \"\"], [\"Download\", \"Download plot\", \"fa fa-floppy-o icon-save\", \"download\"]];\n",
       "\n",
       "mpl.extensions = [\"eps\", \"jpeg\", \"pdf\", \"png\", \"ps\", \"raw\", \"svg\", \"tif\"];\n",
       "\n",
       "mpl.default_extension = \"png\";var comm_websocket_adapter = function(comm) {\n",
       "    // Create a \"websocket\"-like object which calls the given IPython comm\n",
       "    // object with the appropriate methods. Currently this is a non binary\n",
       "    // socket, so there is still some room for performance tuning.\n",
       "    var ws = {};\n",
       "\n",
       "    ws.close = function() {\n",
       "        comm.close()\n",
       "    };\n",
       "    ws.send = function(m) {\n",
       "        //console.log('sending', m);\n",
       "        comm.send(m);\n",
       "    };\n",
       "    // Register the callback with on_msg.\n",
       "    comm.on_msg(function(msg) {\n",
       "        //console.log('receiving', msg['content']['data'], msg);\n",
       "        // Pass the mpl event to the overridden (by mpl) onmessage function.\n",
       "        ws.onmessage(msg['content']['data'])\n",
       "    });\n",
       "    return ws;\n",
       "}\n",
       "\n",
       "mpl.mpl_figure_comm = function(comm, msg) {\n",
       "    // This is the function which gets called when the mpl process\n",
       "    // starts-up an IPython Comm through the \"matplotlib\" channel.\n",
       "\n",
       "    var id = msg.content.data.id;\n",
       "    // Get hold of the div created by the display call when the Comm\n",
       "    // socket was opened in Python.\n",
       "    var element = $(\"#\" + id);\n",
       "    var ws_proxy = comm_websocket_adapter(comm)\n",
       "\n",
       "    function ondownload(figure, format) {\n",
       "        window.open(figure.imageObj.src);\n",
       "    }\n",
       "\n",
       "    var fig = new mpl.figure(id, ws_proxy,\n",
       "                           ondownload,\n",
       "                           element.get(0));\n",
       "\n",
       "    // Call onopen now - mpl needs it, as it is assuming we've passed it a real\n",
       "    // web socket which is closed, not our websocket->open comm proxy.\n",
       "    ws_proxy.onopen();\n",
       "\n",
       "    fig.parent_element = element.get(0);\n",
       "    fig.cell_info = mpl.find_output_cell(\"<div id='\" + id + \"'></div>\");\n",
       "    if (!fig.cell_info) {\n",
       "        console.error(\"Failed to find cell for figure\", id, fig);\n",
       "        return;\n",
       "    }\n",
       "\n",
       "    var output_index = fig.cell_info[2]\n",
       "    var cell = fig.cell_info[0];\n",
       "\n",
       "};\n",
       "\n",
       "mpl.figure.prototype.handle_close = function(fig, msg) {\n",
       "    var width = fig.canvas.width/mpl.ratio\n",
       "    fig.root.unbind('remove')\n",
       "\n",
       "    // Update the output cell to use the data from the current canvas.\n",
       "    fig.push_to_output();\n",
       "    var dataURL = fig.canvas.toDataURL();\n",
       "    // Re-enable the keyboard manager in IPython - without this line, in FF,\n",
       "    // the notebook keyboard shortcuts fail.\n",
       "    IPython.keyboard_manager.enable()\n",
       "    $(fig.parent_element).html('<img src=\"' + dataURL + '\" width=\"' + width + '\">');\n",
       "    fig.close_ws(fig, msg);\n",
       "}\n",
       "\n",
       "mpl.figure.prototype.close_ws = function(fig, msg){\n",
       "    fig.send_message('closing', msg);\n",
       "    // fig.ws.close()\n",
       "}\n",
       "\n",
       "mpl.figure.prototype.push_to_output = function(remove_interactive) {\n",
       "    // Turn the data on the canvas into data in the output cell.\n",
       "    var width = this.canvas.width/mpl.ratio\n",
       "    var dataURL = this.canvas.toDataURL();\n",
       "    this.cell_info[1]['text/html'] = '<img src=\"' + dataURL + '\" width=\"' + width + '\">';\n",
       "}\n",
       "\n",
       "mpl.figure.prototype.updated_canvas_event = function() {\n",
       "    // Tell IPython that the notebook contents must change.\n",
       "    IPython.notebook.set_dirty(true);\n",
       "    this.send_message(\"ack\", {});\n",
       "    var fig = this;\n",
       "    // Wait a second, then push the new image to the DOM so\n",
       "    // that it is saved nicely (might be nice to debounce this).\n",
       "    setTimeout(function () { fig.push_to_output() }, 1000);\n",
       "}\n",
       "\n",
       "mpl.figure.prototype._init_toolbar = function() {\n",
       "    var fig = this;\n",
       "\n",
       "    var nav_element = $('<div/>')\n",
       "    nav_element.attr('style', 'width: 100%');\n",
       "    this.root.append(nav_element);\n",
       "\n",
       "    // Define a callback function for later on.\n",
       "    function toolbar_event(event) {\n",
       "        return fig.toolbar_button_onclick(event['data']);\n",
       "    }\n",
       "    function toolbar_mouse_event(event) {\n",
       "        return fig.toolbar_button_onmouseover(event['data']);\n",
       "    }\n",
       "\n",
       "    for(var toolbar_ind in mpl.toolbar_items){\n",
       "        var name = mpl.toolbar_items[toolbar_ind][0];\n",
       "        var tooltip = mpl.toolbar_items[toolbar_ind][1];\n",
       "        var image = mpl.toolbar_items[toolbar_ind][2];\n",
       "        var method_name = mpl.toolbar_items[toolbar_ind][3];\n",
       "\n",
       "        if (!name) { continue; };\n",
       "\n",
       "        var button = $('<button class=\"btn btn-default\" href=\"#\" title=\"' + name + '\"><i class=\"fa ' + image + ' fa-lg\"></i></button>');\n",
       "        button.click(method_name, toolbar_event);\n",
       "        button.mouseover(tooltip, toolbar_mouse_event);\n",
       "        nav_element.append(button);\n",
       "    }\n",
       "\n",
       "    // Add the status bar.\n",
       "    var status_bar = $('<span class=\"mpl-message\" style=\"text-align:right; float: right;\"/>');\n",
       "    nav_element.append(status_bar);\n",
       "    this.message = status_bar[0];\n",
       "\n",
       "    // Add the close button to the window.\n",
       "    var buttongrp = $('<div class=\"btn-group inline pull-right\"></div>');\n",
       "    var button = $('<button class=\"btn btn-mini btn-primary\" href=\"#\" title=\"Stop Interaction\"><i class=\"fa fa-power-off icon-remove icon-large\"></i></button>');\n",
       "    button.click(function (evt) { fig.handle_close(fig, {}); } );\n",
       "    button.mouseover('Stop Interaction', toolbar_mouse_event);\n",
       "    buttongrp.append(button);\n",
       "    var titlebar = this.root.find($('.ui-dialog-titlebar'));\n",
       "    titlebar.prepend(buttongrp);\n",
       "}\n",
       "\n",
       "mpl.figure.prototype._root_extra_style = function(el){\n",
       "    var fig = this\n",
       "    el.on(\"remove\", function(){\n",
       "\tfig.close_ws(fig, {});\n",
       "    });\n",
       "}\n",
       "\n",
       "mpl.figure.prototype._canvas_extra_style = function(el){\n",
       "    // this is important to make the div 'focusable\n",
       "    el.attr('tabindex', 0)\n",
       "    // reach out to IPython and tell the keyboard manager to turn it's self\n",
       "    // off when our div gets focus\n",
       "\n",
       "    // location in version 3\n",
       "    if (IPython.notebook.keyboard_manager) {\n",
       "        IPython.notebook.keyboard_manager.register_events(el);\n",
       "    }\n",
       "    else {\n",
       "        // location in version 2\n",
       "        IPython.keyboard_manager.register_events(el);\n",
       "    }\n",
       "\n",
       "}\n",
       "\n",
       "mpl.figure.prototype._key_event_extra = function(event, name) {\n",
       "    var manager = IPython.notebook.keyboard_manager;\n",
       "    if (!manager)\n",
       "        manager = IPython.keyboard_manager;\n",
       "\n",
       "    // Check for shift+enter\n",
       "    if (event.shiftKey && event.which == 13) {\n",
       "        this.canvas_div.blur();\n",
       "        event.shiftKey = false;\n",
       "        // Send a \"J\" for go to next cell\n",
       "        event.which = 74;\n",
       "        event.keyCode = 74;\n",
       "        manager.command_mode();\n",
       "        manager.handle_keydown(event);\n",
       "    }\n",
       "}\n",
       "\n",
       "mpl.figure.prototype.handle_save = function(fig, msg) {\n",
       "    fig.ondownload(fig, null);\n",
       "}\n",
       "\n",
       "\n",
       "mpl.find_output_cell = function(html_output) {\n",
       "    // Return the cell and output element which can be found *uniquely* in the notebook.\n",
       "    // Note - this is a bit hacky, but it is done because the \"notebook_saving.Notebook\"\n",
       "    // IPython event is triggered only after the cells have been serialised, which for\n",
       "    // our purposes (turning an active figure into a static one), is too late.\n",
       "    var cells = IPython.notebook.get_cells();\n",
       "    var ncells = cells.length;\n",
       "    for (var i=0; i<ncells; i++) {\n",
       "        var cell = cells[i];\n",
       "        if (cell.cell_type === 'code'){\n",
       "            for (var j=0; j<cell.output_area.outputs.length; j++) {\n",
       "                var data = cell.output_area.outputs[j];\n",
       "                if (data.data) {\n",
       "                    // IPython >= 3 moved mimebundle to data attribute of output\n",
       "                    data = data.data;\n",
       "                }\n",
       "                if (data['text/html'] == html_output) {\n",
       "                    return [cell, data, j];\n",
       "                }\n",
       "            }\n",
       "        }\n",
       "    }\n",
       "}\n",
       "\n",
       "// Register the function which deals with the matplotlib target/channel.\n",
       "// The kernel may be null if the page has been refreshed.\n",
       "if (IPython.notebook.kernel != null) {\n",
       "    IPython.notebook.kernel.comm_manager.register_target('matplotlib', mpl.mpl_figure_comm);\n",
       "}\n"
      ],
      "text/plain": [
       "<IPython.core.display.Javascript object>"
      ]
     },
     "metadata": {},
     "output_type": "display_data"
    },
    {
     "data": {
      "text/html": [
       "<img src=\"data:image/png;base64,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\" width=\"640\">"
      ],
      "text/plain": [
       "<IPython.core.display.HTML object>"
      ]
     },
     "metadata": {},
     "output_type": "display_data"
    },
    {
     "data": {
      "text/plain": [
       "[<matplotlib.lines.Line2D at 0x11fd4ef90>]"
      ]
     },
     "execution_count": 215,
     "metadata": {},
     "output_type": "execute_result"
    }
   ],
   "source": [
    "df = pd.DataFrame(clf.cv_results_)\n",
    "fig, ax = plt.subplots()\n",
    "ax.plot(np.array(df['param_n_neighbors'], dtype=float), np.array(df['mean_test_score'], dtype=float))"
   ]
  },
  {
   "cell_type": "markdown",
   "metadata": {},
   "source": [
    "Создайте объект `best_knn_clf`, который представляет собой лучший классификатор."
   ]
  },
  {
   "cell_type": "code",
   "execution_count": 217,
   "metadata": {},
   "outputs": [
    {
     "data": {
      "text/plain": [
       "KNeighborsClassifier(algorithm='auto', leaf_size=30, metric='minkowski',\n",
       "                     metric_params=None, n_jobs=None, n_neighbors=6, p=2,\n",
       "                     weights='distance')"
      ]
     },
     "execution_count": 217,
     "metadata": {},
     "output_type": "execute_result"
    }
   ],
   "source": [
    "best_knn_clf = KNeighborsClassifier(n_neighbors=6, weights='distance')\n",
    "best_knn_clf.fit(train_feature_matrix, train_labels)"
   ]
  },
  {
   "cell_type": "markdown",
   "metadata": {},
   "source": [
    "Используя найденное оптимальное число соседей, вычислите вероятности принадлежности к классам для тестовой выборки (`.predict_proba`)."
   ]
  },
  {
   "cell_type": "code",
   "execution_count": 218,
   "metadata": {},
   "outputs": [
    {
     "data": {
      "text/plain": [
       "array([[0.54984525, 0.45015475, 0.        , ..., 0.        , 0.        ,\n",
       "        0.        ],\n",
       "       [0.        , 0.79305343, 0.20694657, ..., 0.        , 0.        ,\n",
       "        0.        ],\n",
       "       [0.85457735, 0.14542265, 0.        , ..., 0.        , 0.        ,\n",
       "        0.        ],\n",
       "       ...,\n",
       "       [0.43159413, 0.56840587, 0.        , ..., 0.        , 0.        ,\n",
       "        0.        ],\n",
       "       [0.69519408, 0.30480592, 0.        , ..., 0.        , 0.        ,\n",
       "        0.        ],\n",
       "       [0.30990906, 0.40592963, 0.13888112, ..., 0.14528019, 0.        ,\n",
       "        0.        ]])"
      ]
     },
     "execution_count": 218,
     "metadata": {},
     "output_type": "execute_result"
    }
   ],
   "source": [
    "best_knn_clf.predict_proba(test_feature_matrix)"
   ]
  },
  {
   "cell_type": "markdown",
   "metadata": {
    "colab_type": "text",
    "id": "p41xvYTU25qK"
   },
   "source": [
    "#### 2.4 Сравнение результатов логистической регрессии и kNN (10%).\n",
    "\n",
    "В реальной жизни новые данные становятся доступны с течением времени. Сравните качество Вашей лучшей модели логистической регресии `best_lr_clf` и лучшего kNN `best_knn_clf` на отложенной выборке `delayed_data`. Какая из моделей показала лучший результат?"
   ]
  },
  {
   "cell_type": "code",
   "execution_count": 219,
   "metadata": {
    "colab": {
     "autoexec": {
      "startup": false,
      "wait_interval": 0
     }
    },
    "colab_type": "code",
    "id": "xJFKTJx425qL"
   },
   "outputs": [
    {
     "name": "stdout",
     "output_type": "stream",
     "text": [
      "lr accuracy = 0.7235\n",
      "knn accuracy = 0.7525\n"
     ]
    }
   ],
   "source": [
    "lr_pred = best_lr_clf.predict(delayed_feature_matrix)\n",
    "knn_pred = best_knn_clf.predict(delayed_feature_matrix)\n",
    "lr_accuracy = accuracy_score(y_true=delayed_labels, y_pred=lr_pred)\n",
    "knn_accuracy = accuracy_score(y_true=delayed_labels, y_pred=knn_pred)\n",
    "print(f\"lr accuracy = {lr_accuracy}\")\n",
    "print(f\"knn accuracy = {knn_accuracy}\")"
   ]
  },
  {
   "cell_type": "markdown",
   "metadata": {},
   "source": [
    "#### Не меняйте следующую ячейку. Запустите ее для генерации `submission` файла."
   ]
  },
  {
   "cell_type": "code",
   "execution_count": 220,
   "metadata": {},
   "outputs": [],
   "source": [
    "# Do not change me, just run\n",
    "# !!!!!!!!!!!!!!!!!!!!!!!!!!!!!!!!!!!!!!!!!!!!!!!!\n",
    "_dict_for_submission['best_lr_clf_delayed'] = transform_list(list(best_lr_clf.predict(delayed_feature_matrix)))\n",
    "_dict_for_submission['best_knn_clf_delayed'] = transform_list(list(best_knn_clf.predict(delayed_feature_matrix)))\n",
    "\n",
    "import json\n",
    "with open('submission_hw1_basic.json', 'w') as iofile:\n",
    "    json.dump(_dict_for_submission, iofile)\n",
    "# !!!!!!!!!!!!!!!!!!!!!!!!!!!!!!!!!!!!!!!!!!!!!!!!"
   ]
  },
  {
   "cell_type": "markdown",
   "metadata": {},
   "source": [
    "Данный файл необходимо будет прикрепить к Google-форме для сдачи домашнего задания. __Для идентификации используется e-mail, который вы указали при регистрации на курс. Проверка производится автоматически. Если вы подпишитесь другим e-mail'ом, задание просто не будет засчитано.__"
   ]
  },
  {
   "cell_type": "markdown",
   "metadata": {},
   "source": [
    "На этом задание завершено. Мы будем рады, если вы оставите обратную связь по данному заданию [по ссылке](https://forms.gle/2qaf14ky3J6HZfe48). Она анонимна ;)"
   ]
  }
 ],
 "metadata": {
  "colab": {
   "collapsed_sections": [
    "dKCiU0wz25pj",
    "9MKHZ2JC25pv",
    "VYogShkD25qD",
    "p41xvYTU25qK"
   ],
   "default_view": {},
   "name": "HW1_Logistic_regression_and_SVM.ipynb",
   "provenance": [],
   "version": "0.3.2",
   "views": {}
  },
  "kernelspec": {
   "display_name": "Python 3",
   "language": "python",
   "name": "python3"
  },
  "language_info": {
   "codemirror_mode": {
    "name": "ipython",
    "version": 3
   },
   "file_extension": ".py",
   "mimetype": "text/x-python",
   "name": "python",
   "nbconvert_exporter": "python",
   "pygments_lexer": "ipython3",
   "version": "3.7.4"
  }
 },
 "nbformat": 4,
 "nbformat_minor": 1
}
